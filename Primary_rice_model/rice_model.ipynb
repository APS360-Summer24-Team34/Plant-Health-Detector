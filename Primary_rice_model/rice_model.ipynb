{
  "cells": [
    {
      "cell_type": "code",
      "execution_count": null,
      "metadata": {
        "colab": {
          "base_uri": "https://localhost:8080/"
        },
        "id": "csZky4M9Jopc",
        "outputId": "b78adfe5-e36a-409a-d543-0a4222c0469c"
      },
      "outputs": [
        {
          "output_type": "stream",
          "name": "stdout",
          "text": [
            "Drive already mounted at /content/drive; to attempt to forcibly remount, call drive.mount(\"/content/drive\", force_remount=True).\n"
          ]
        }
      ],
      "source": [
        "from google.colab import drive\n",
        "drive.mount('/content/drive')"
      ]
    },
    {
      "cell_type": "code",
      "execution_count": null,
      "metadata": {
        "id": "5uLKNu6pLlPZ"
      },
      "outputs": [],
      "source": [
        "import numpy as np\n",
        "import time\n",
        "import torch\n",
        "import torch.nn as nn\n",
        "import torch.nn.functional as F\n",
        "import torch.optim as optim\n",
        "import torchvision\n",
        "from torch.utils.data.sampler import SubsetRandomSampler\n",
        "import torchvision.transforms as transforms\n",
        "import time\n",
        "import os\n",
        "import numpy as np\n",
        "\n",
        "import torchvision\n",
        "from torchvision import datasets, models\n",
        "import matplotlib.pyplot as plt"
      ]
    },
    {
      "cell_type": "code",
      "execution_count": null,
      "metadata": {
        "id": "XFaiKQetJdL8"
      },
      "outputs": [],
      "source": [
        "import torch\n",
        "import torch.nn as nn\n",
        "\n",
        "class CustomCNN(nn.Module):\n",
        "    def __init__(self, num_classes=6):\n",
        "        super(CustomCNN, self).__init__()\n",
        "        self.conv1 = nn.Conv2d(in_channels=3, out_channels=64, kernel_size=3, stride=1, padding=1)\n",
        "        self.conv2 = nn.Conv2d(in_channels=64, out_channels=128, kernel_size=3, stride=1, padding=1)\n",
        "        self.conv3 = nn.Conv2d(in_channels=128, out_channels=256, kernel_size=3, stride=1, padding=1)\n",
        "        self.pool = nn.MaxPool2d(kernel_size=2, stride=2, padding=0)\n",
        "        self.fc1 = nn.Linear(256 * 8 * 8, 512)\n",
        "        self.fc2 = nn.Linear(512, 256)\n",
        "\n",
        "    def forward(self, x):\n",
        "        x = self.pool(self.conv1(x))\n",
        "        x = self.pool(self.conv2(x))\n",
        "        x = self.pool(self.conv3(x))\n",
        "        x = x.view(x.size(0), -1)  # Flattening the tensor\n",
        "        x = self.fc1(x)\n",
        "        x = self.fc2(x)\n",
        "        return x\n"
      ]
    },
    {
      "cell_type": "code",
      "execution_count": null,
      "metadata": {
        "id": "1sT_xlMCJzHw"
      },
      "outputs": [],
      "source": [
        "from torchvision import models\n",
        "\n",
        "class ModifiedResNet(nn.Module):\n",
        "    def __init__(self, num_classes=6):\n",
        "        super(ModifiedResNet, self).__init__()\n",
        "        self.resnet = models.resnet50(pretrained=True)\n",
        "        in_features = self.resnet.fc.in_features\n",
        "        self.resnet.fc = nn.Linear(in_features, 256)\n",
        "    def forward(self, x):\n",
        "        x = self.resnet(x)\n",
        "        return x\n"
      ]
    },
    {
      "cell_type": "code",
      "execution_count": null,
      "metadata": {
        "id": "7IT4FYZOJ_hw"
      },
      "outputs": [],
      "source": [
        "#combing resnet and cnn\n",
        "class CombinedModel(nn.Module):\n",
        "    def __init__(self, num_classes=6):\n",
        "        super(CombinedModel, self).__init__()\n",
        "        self.custom_cnn = CustomCNN(num_classes)\n",
        "        self.modified_resnet = ModifiedResNet(num_classes)\n",
        "        self.fc = nn.Linear(256 * 2, num_classes)\n",
        "\n",
        "    def forward(self, x):\n",
        "        custom_out = self.custom_cnn(x)\n",
        "        resnet_out = self.modified_resnet(x)\n",
        "        combined_out = torch.cat((custom_out, resnet_out), dim=1)\n",
        "        out = self.fc(combined_out)\n",
        "        return out\n"
      ]
    },
    {
      "cell_type": "code",
      "execution_count": null,
      "metadata": {
        "id": "5WsZWu7HKGRB"
      },
      "outputs": [],
      "source": [
        "import time\n",
        "import torch\n",
        "import torch.nn as nn\n",
        "import torch.optim as optim\n",
        "import numpy as np\n",
        "\n",
        "# Check for GPU availability and set device\n",
        "device = torch.device(\"cuda\" if torch.cuda.is_available() else \"cpu\")\n",
        "\n",
        "#functions below are the ones used in lab2/lab3 of APS360\n",
        "def evaluate(net, loader, criterion):\n",
        "    net.eval()\n",
        "    total_loss = 0.0\n",
        "    total_err = 0.0\n",
        "    total_correct = 0\n",
        "    total_samples = 0\n",
        "    with torch.no_grad():\n",
        "        for i, data in enumerate(loader, 0):\n",
        "            inputs, labels = data\n",
        "            inputs, labels = inputs.to(device), labels.to(device)\n",
        "            outputs = net(inputs)\n",
        "            loss = criterion(outputs, labels)\n",
        "            _, predicted = torch.max(outputs, 1)\n",
        "            total_correct += (predicted == labels).sum().item()\n",
        "            total_samples += labels.size(0)\n",
        "            total_loss += loss.item()\n",
        "            total_err += (predicted != labels).sum().item()\n",
        "    accuracy = total_correct / total_samples\n",
        "    err = float(total_err) / total_samples\n",
        "    loss = float(total_loss) / (i + 1)\n",
        "    return accuracy, err, loss\n",
        "\n",
        "\n",
        "def loader(train_images, val_images, test_images, batch_size=64):\n",
        "    train_loader = torch.utils.data.DataLoader(train_images, batch_size=batch_size, num_workers=2, shuffle=True)\n",
        "    val_loader = torch.utils.data.DataLoader(val_images, batch_size=batch_size, num_workers=2, shuffle=True)\n",
        "    test_loader = torch.utils.data.DataLoader(test_images, batch_size=batch_size, num_workers=2, shuffle=True)\n",
        "    return train_loader, val_loader, test_loader\n",
        "\n",
        "def train(model, train_images, val_images, test_images, batch_size=64, lr=0.001, num_epochs=30):\n",
        "    torch.manual_seed(10)\n",
        "\n",
        "    # Move the model to GPU\n",
        "    model.to(device)\n",
        "\n",
        "    train_loader, val_loader, test_loader = loader(train_images, val_images, test_images, batch_size)\n",
        "    criterion = nn.CrossEntropyLoss()\n",
        "    #optimizer = optim.Adam(model.parameters(), lr=lr)\n",
        "    optimizer = optim.Adam(model.parameters(), lr=0.001, weight_decay=1e-4)\n",
        "\n",
        "    train_err = np.zeros(num_epochs)\n",
        "    train_loss = np.zeros(num_epochs)\n",
        "    train_acc = np.zeros(num_epochs)\n",
        "    val_err = np.zeros(num_epochs)\n",
        "    val_loss = np.zeros(num_epochs)\n",
        "    val_acc = np.zeros(num_epochs)\n",
        "\n",
        "    start_time = time.time()\n",
        "    for epoch in range(num_epochs):\n",
        "        model.train()\n",
        "        total_train_loss = 0.0\n",
        "        total_train_err = 0.0\n",
        "        total_train_correct = 0\n",
        "        total_train_samples = 0\n",
        "        for i, data in enumerate(train_loader, 0):\n",
        "            inputs, labels = data\n",
        "            inputs, labels = inputs.to(device), labels.to(device)\n",
        "            labels = labels.long()\n",
        "\n",
        "            optimizer.zero_grad()\n",
        "            outputs = model(inputs)\n",
        "            loss = criterion(outputs, labels)\n",
        "            loss.backward()\n",
        "            optimizer.step()\n",
        "\n",
        "            _, predicted = torch.max(outputs, 1)\n",
        "            total_train_correct += (predicted == labels).sum().item()\n",
        "            total_train_samples += labels.size(0)\n",
        "            total_train_loss += loss.item()\n",
        "            total_train_err += (predicted != labels).sum().item()\n",
        "\n",
        "        train_acc[epoch] = total_train_correct / total_train_samples\n",
        "        train_err[epoch] = float(total_train_err) / total_train_samples\n",
        "        train_loss[epoch] = float(total_train_loss) / (i + 1)\n",
        "        val_acc[epoch], val_err[epoch], val_loss[epoch] = evaluate(model, val_loader, criterion)\n",
        "\n",
        "        print(f\"Epoch {epoch + 1}: Train Acc: {train_acc[epoch]:.4f}, Train err: {train_err[epoch]:.4f}, Train loss: {train_loss[epoch]:.4f} | Validation Acc: {val_acc[epoch]:.4f}, Validation err: {val_err[epoch]:.4f}, Validation loss: {val_loss[epoch]:.4f}\")\n",
        "\n",
        "        #saving model after\n",
        "        if (True):\n",
        "            model_path = f\"model_{model.__class__.__name__}_bs{batch_size}_lr{lr}_epoch{epoch + 1}.pth\"\n",
        "            torch.save(model.state_dict(), model_path)\n",
        "\n",
        "    print('Finished Training')\n",
        "    elapsed_time = time.time() - start_time\n",
        "    print(f\"Total time elapsed: {elapsed_time:.2f} seconds\")\n",
        "\n",
        "    epochs = np.arange(1, num_epochs + 1)\n",
        "    np.savetxt(f\"{model.__class__.__name__}_train_acc.csv\", train_acc)\n",
        "    np.savetxt(f\"{model.__class__.__name__}_train_err.csv\", train_err)\n",
        "    np.savetxt(f\"{model.__class__.__name__}_train_loss.csv\", train_loss)\n",
        "    np.savetxt(f\"{model.__class__.__name__}_val_acc.csv\", val_acc)\n",
        "    np.savetxt(f\"{model.__class__.__name__}_val_err.csv\", val_err)\n",
        "    np.savetxt(f\"{model.__class__.__name__}_val_loss.csv\", val_loss)\n"
      ]
    },
    {
      "cell_type": "code",
      "execution_count": null,
      "metadata": {
        "id": "j2sasVAXKiZQ"
      },
      "outputs": [],
      "source": [
        "###########      Plotting data from lab2        #############\n",
        "\n",
        "def plot_training_curve(path):\n",
        "    import matplotlib.pyplot as plt\n",
        "    train_err = np.loadtxt(\"{}_train_err.csv\".format(path))\n",
        "    val_err = np.loadtxt(\"{}_val_err.csv\".format(path))\n",
        "    train_loss = np.loadtxt(\"{}_train_loss.csv\".format(path))\n",
        "    val_loss = np.loadtxt(\"{}_val_loss.csv\".format(path))\n",
        "    plt.title(\"Train vs Validation Error\")\n",
        "    n = len(train_err) # number of epochs\n",
        "    plt.plot(range(1,n+1), train_err, label=\"Train\")\n",
        "    plt.plot(range(1,n+1), val_err, label=\"Validation\")\n",
        "    plt.xlabel(\"Epoch\")\n",
        "    plt.ylabel(\"Error\")\n",
        "    plt.legend(loc='best')\n",
        "    plt.show()\n",
        "    plt.title(\"Train vs Validation Loss\")\n",
        "    plt.plot(range(1,n+1), train_loss, label=\"Train\")\n",
        "    plt.plot(range(1,n+1), val_loss, label=\"Validation\")\n",
        "    plt.xlabel(\"Epoch\")\n",
        "    plt.ylabel(\"Loss\")\n",
        "    plt.legend(loc='best')\n",
        "    plt.show()\n"
      ]
    },
    {
      "cell_type": "code",
      "execution_count": null,
      "metadata": {
        "id": "qhfYZGsroT92"
      },
      "outputs": [],
      "source": [
        "from torchvision import transforms, datasets\n",
        "\n",
        "transform = transforms.Compose([\n",
        "    transforms.Resize((64, 64)),\n",
        "    transforms.ToTensor(),\n",
        "    transforms.Normalize((0.5, 0.5, 0.5), (0.5, 0.5, 0.5))\n",
        "])\n",
        "\n",
        "train_images = datasets.ImageFolder('/content/drive/MyDrive/aps360/Processed Data/training_database/rice', transform=transform)\n",
        "val_images = datasets.ImageFolder('/content/drive/MyDrive/aps360/Processed Data/validation_database/rice', transform=transform)\n",
        "test_images = datasets.ImageFolder('/content/drive/MyDrive/aps360/Processed Data/testing_database/rice', transform=transform)\n"
      ]
    },
    {
      "cell_type": "code",
      "source": [
        "model = CombinedModel(num_classes = 6)\n",
        "train(model, train_images,val_images, test_images,batch_size=256, lr=0.0001, num_epochs=150) #92.14 at 58th epoch is the best validation accuracy"
      ],
      "metadata": {
        "colab": {
          "base_uri": "https://localhost:8080/"
        },
        "id": "RJrnVE-A_ehL",
        "outputId": "5c1f1a23-8479-4c4d-cdce-92188c4617fa"
      },
      "execution_count": 25,
      "outputs": [
        {
          "output_type": "stream",
          "name": "stdout",
          "text": [
            "Epoch 1: Train Acc: 0.3887, Train err: 0.6113, Train loss: 2.6410 | Validation Acc: 0.5381, Validation err: 0.4619, Validation loss: 4.1194\n",
            "Epoch 2: Train Acc: 0.7322, Train err: 0.2678, Train loss: 0.8352 | Validation Acc: 0.4405, Validation err: 0.5595, Validation loss: 9.4376\n",
            "Epoch 3: Train Acc: 0.8142, Train err: 0.1858, Train loss: 0.6543 | Validation Acc: 0.6167, Validation err: 0.3833, Validation loss: 6.6351\n",
            "Epoch 4: Train Acc: 0.8866, Train err: 0.1134, Train loss: 0.3563 | Validation Acc: 0.7690, Validation err: 0.2310, Validation loss: 2.3949\n",
            "Epoch 5: Train Acc: 0.8866, Train err: 0.1134, Train loss: 0.3454 | Validation Acc: 0.6524, Validation err: 0.3476, Validation loss: 1.9562\n",
            "Epoch 6: Train Acc: 0.9249, Train err: 0.0751, Train loss: 0.2407 | Validation Acc: 0.8595, Validation err: 0.1405, Validation loss: 0.7363\n",
            "Epoch 7: Train Acc: 0.9399, Train err: 0.0601, Train loss: 0.1892 | Validation Acc: 0.8762, Validation err: 0.1238, Validation loss: 0.4910\n",
            "Epoch 8: Train Acc: 0.9515, Train err: 0.0485, Train loss: 0.1337 | Validation Acc: 0.8643, Validation err: 0.1357, Validation loss: 0.6184\n",
            "Epoch 9: Train Acc: 0.9577, Train err: 0.0423, Train loss: 0.1291 | Validation Acc: 0.8500, Validation err: 0.1500, Validation loss: 0.5915\n",
            "Epoch 10: Train Acc: 0.9617, Train err: 0.0383, Train loss: 0.1184 | Validation Acc: 0.8571, Validation err: 0.1429, Validation loss: 0.4047\n",
            "Epoch 11: Train Acc: 0.9693, Train err: 0.0307, Train loss: 0.1307 | Validation Acc: 0.8833, Validation err: 0.1167, Validation loss: 0.6516\n",
            "Epoch 12: Train Acc: 0.9740, Train err: 0.0260, Train loss: 0.0821 | Validation Acc: 0.8905, Validation err: 0.1095, Validation loss: 0.4448\n",
            "Epoch 13: Train Acc: 0.9863, Train err: 0.0137, Train loss: 0.0507 | Validation Acc: 0.8595, Validation err: 0.1405, Validation loss: 0.4479\n",
            "Epoch 14: Train Acc: 0.9898, Train err: 0.0102, Train loss: 0.0540 | Validation Acc: 0.8810, Validation err: 0.1190, Validation loss: 0.4769\n",
            "Epoch 15: Train Acc: 0.9911, Train err: 0.0089, Train loss: 0.0273 | Validation Acc: 0.9000, Validation err: 0.1000, Validation loss: 0.3297\n",
            "Epoch 16: Train Acc: 0.9959, Train err: 0.0041, Train loss: 0.0127 | Validation Acc: 0.8857, Validation err: 0.1143, Validation loss: 0.4425\n",
            "Epoch 17: Train Acc: 0.9966, Train err: 0.0034, Train loss: 0.0156 | Validation Acc: 0.9000, Validation err: 0.1000, Validation loss: 0.3889\n",
            "Epoch 18: Train Acc: 0.9932, Train err: 0.0068, Train loss: 0.0211 | Validation Acc: 0.9000, Validation err: 0.1000, Validation loss: 0.4937\n",
            "Epoch 19: Train Acc: 0.9918, Train err: 0.0082, Train loss: 0.0262 | Validation Acc: 0.8976, Validation err: 0.1024, Validation loss: 0.4447\n",
            "Epoch 20: Train Acc: 0.9966, Train err: 0.0034, Train loss: 0.0126 | Validation Acc: 0.8857, Validation err: 0.1143, Validation loss: 0.5417\n",
            "Epoch 21: Train Acc: 0.9918, Train err: 0.0082, Train loss: 0.0258 | Validation Acc: 0.8929, Validation err: 0.1071, Validation loss: 0.5085\n",
            "Epoch 22: Train Acc: 0.9939, Train err: 0.0061, Train loss: 0.0145 | Validation Acc: 0.7738, Validation err: 0.2262, Validation loss: 1.0883\n",
            "Epoch 23: Train Acc: 0.9959, Train err: 0.0041, Train loss: 0.0184 | Validation Acc: 0.8143, Validation err: 0.1857, Validation loss: 0.8186\n",
            "Epoch 24: Train Acc: 0.9952, Train err: 0.0048, Train loss: 0.0125 | Validation Acc: 0.8690, Validation err: 0.1310, Validation loss: 0.6247\n",
            "Epoch 25: Train Acc: 1.0000, Train err: 0.0000, Train loss: 0.0030 | Validation Acc: 0.8833, Validation err: 0.1167, Validation loss: 0.6134\n",
            "Epoch 26: Train Acc: 0.9966, Train err: 0.0034, Train loss: 0.0082 | Validation Acc: 0.8857, Validation err: 0.1143, Validation loss: 0.5736\n",
            "Epoch 27: Train Acc: 0.9973, Train err: 0.0027, Train loss: 0.0152 | Validation Acc: 0.8905, Validation err: 0.1095, Validation loss: 0.6117\n",
            "Epoch 28: Train Acc: 0.9952, Train err: 0.0048, Train loss: 0.0133 | Validation Acc: 0.8690, Validation err: 0.1310, Validation loss: 0.6481\n",
            "Epoch 29: Train Acc: 0.9918, Train err: 0.0082, Train loss: 0.0319 | Validation Acc: 0.8667, Validation err: 0.1333, Validation loss: 0.7170\n",
            "Epoch 30: Train Acc: 0.9870, Train err: 0.0130, Train loss: 0.0382 | Validation Acc: 0.8643, Validation err: 0.1357, Validation loss: 0.5752\n",
            "Epoch 31: Train Acc: 0.9822, Train err: 0.0178, Train loss: 0.0495 | Validation Acc: 0.8857, Validation err: 0.1143, Validation loss: 0.5993\n",
            "Epoch 32: Train Acc: 0.9822, Train err: 0.0178, Train loss: 0.0484 | Validation Acc: 0.8714, Validation err: 0.1286, Validation loss: 0.6221\n",
            "Epoch 33: Train Acc: 0.9809, Train err: 0.0191, Train loss: 0.0601 | Validation Acc: 0.8976, Validation err: 0.1024, Validation loss: 0.3936\n",
            "Epoch 34: Train Acc: 0.9904, Train err: 0.0096, Train loss: 0.0422 | Validation Acc: 0.8310, Validation err: 0.1690, Validation loss: 0.7697\n",
            "Epoch 35: Train Acc: 0.9925, Train err: 0.0075, Train loss: 0.0345 | Validation Acc: 0.8881, Validation err: 0.1119, Validation loss: 0.4830\n",
            "Epoch 36: Train Acc: 0.9952, Train err: 0.0048, Train loss: 0.0146 | Validation Acc: 0.8929, Validation err: 0.1071, Validation loss: 0.4499\n",
            "Epoch 37: Train Acc: 0.9966, Train err: 0.0034, Train loss: 0.0128 | Validation Acc: 0.9024, Validation err: 0.0976, Validation loss: 0.4286\n",
            "Epoch 38: Train Acc: 0.9966, Train err: 0.0034, Train loss: 0.0107 | Validation Acc: 0.8810, Validation err: 0.1190, Validation loss: 0.5821\n",
            "Epoch 39: Train Acc: 0.9939, Train err: 0.0061, Train loss: 0.0196 | Validation Acc: 0.8786, Validation err: 0.1214, Validation loss: 0.5928\n",
            "Epoch 40: Train Acc: 0.9891, Train err: 0.0109, Train loss: 0.0374 | Validation Acc: 0.8143, Validation err: 0.1857, Validation loss: 0.7647\n",
            "Epoch 41: Train Acc: 0.9863, Train err: 0.0137, Train loss: 0.0413 | Validation Acc: 0.8690, Validation err: 0.1310, Validation loss: 0.5537\n",
            "Epoch 42: Train Acc: 0.9877, Train err: 0.0123, Train loss: 0.0453 | Validation Acc: 0.8810, Validation err: 0.1190, Validation loss: 0.4643\n",
            "Epoch 43: Train Acc: 0.9884, Train err: 0.0116, Train loss: 0.0458 | Validation Acc: 0.8881, Validation err: 0.1119, Validation loss: 0.4605\n",
            "Epoch 44: Train Acc: 0.9891, Train err: 0.0109, Train loss: 0.0306 | Validation Acc: 0.8905, Validation err: 0.1095, Validation loss: 0.4123\n",
            "Epoch 45: Train Acc: 0.9904, Train err: 0.0096, Train loss: 0.0392 | Validation Acc: 0.8690, Validation err: 0.1310, Validation loss: 0.6979\n",
            "Epoch 46: Train Acc: 0.9843, Train err: 0.0157, Train loss: 0.0699 | Validation Acc: 0.8857, Validation err: 0.1143, Validation loss: 0.4469\n",
            "Epoch 47: Train Acc: 0.9932, Train err: 0.0068, Train loss: 0.0214 | Validation Acc: 0.8905, Validation err: 0.1095, Validation loss: 0.4148\n",
            "Epoch 48: Train Acc: 0.9898, Train err: 0.0102, Train loss: 0.0301 | Validation Acc: 0.8738, Validation err: 0.1262, Validation loss: 0.6043\n",
            "Epoch 49: Train Acc: 0.9945, Train err: 0.0055, Train loss: 0.0191 | Validation Acc: 0.8905, Validation err: 0.1095, Validation loss: 0.4864\n",
            "Epoch 50: Train Acc: 0.9959, Train err: 0.0041, Train loss: 0.0098 | Validation Acc: 0.8810, Validation err: 0.1190, Validation loss: 0.5615\n",
            "Epoch 51: Train Acc: 0.9945, Train err: 0.0055, Train loss: 0.0203 | Validation Acc: 0.8905, Validation err: 0.1095, Validation loss: 0.4926\n",
            "Epoch 52: Train Acc: 0.9986, Train err: 0.0014, Train loss: 0.0066 | Validation Acc: 0.8786, Validation err: 0.1214, Validation loss: 0.6673\n",
            "Epoch 53: Train Acc: 0.9898, Train err: 0.0102, Train loss: 0.0324 | Validation Acc: 0.8548, Validation err: 0.1452, Validation loss: 0.8283\n",
            "Epoch 54: Train Acc: 0.9877, Train err: 0.0123, Train loss: 0.0522 | Validation Acc: 0.8571, Validation err: 0.1429, Validation loss: 0.6317\n",
            "Epoch 55: Train Acc: 0.9877, Train err: 0.0123, Train loss: 0.0501 | Validation Acc: 0.8476, Validation err: 0.1524, Validation loss: 0.5835\n",
            "Epoch 56: Train Acc: 0.9945, Train err: 0.0055, Train loss: 0.0212 | Validation Acc: 0.8500, Validation err: 0.1500, Validation loss: 0.5512\n",
            "Epoch 57: Train Acc: 0.9973, Train err: 0.0027, Train loss: 0.0217 | Validation Acc: 0.8643, Validation err: 0.1357, Validation loss: 0.5642\n",
            "Epoch 58: Train Acc: 0.9966, Train err: 0.0034, Train loss: 0.0160 | Validation Acc: 0.8643, Validation err: 0.1357, Validation loss: 0.5252\n",
            "Epoch 59: Train Acc: 0.9959, Train err: 0.0041, Train loss: 0.0126 | Validation Acc: 0.8738, Validation err: 0.1262, Validation loss: 0.5552\n",
            "Epoch 60: Train Acc: 0.9973, Train err: 0.0027, Train loss: 0.0101 | Validation Acc: 0.8810, Validation err: 0.1190, Validation loss: 0.5153\n",
            "Epoch 61: Train Acc: 0.9980, Train err: 0.0020, Train loss: 0.0066 | Validation Acc: 0.8810, Validation err: 0.1190, Validation loss: 0.4257\n",
            "Epoch 62: Train Acc: 0.9993, Train err: 0.0007, Train loss: 0.0032 | Validation Acc: 0.9000, Validation err: 0.1000, Validation loss: 0.4356\n",
            "Epoch 63: Train Acc: 0.9993, Train err: 0.0007, Train loss: 0.0032 | Validation Acc: 0.9024, Validation err: 0.0976, Validation loss: 0.5011\n",
            "Epoch 64: Train Acc: 1.0000, Train err: 0.0000, Train loss: 0.0009 | Validation Acc: 0.8976, Validation err: 0.1024, Validation loss: 0.5027\n",
            "Epoch 65: Train Acc: 0.9993, Train err: 0.0007, Train loss: 0.0038 | Validation Acc: 0.9048, Validation err: 0.0952, Validation loss: 0.4707\n",
            "Epoch 66: Train Acc: 1.0000, Train err: 0.0000, Train loss: 0.0007 | Validation Acc: 0.9071, Validation err: 0.0929, Validation loss: 0.4268\n",
            "Epoch 67: Train Acc: 0.9993, Train err: 0.0007, Train loss: 0.0028 | Validation Acc: 0.9048, Validation err: 0.0952, Validation loss: 0.3983\n",
            "Epoch 68: Train Acc: 0.9980, Train err: 0.0020, Train loss: 0.0094 | Validation Acc: 0.9095, Validation err: 0.0905, Validation loss: 0.4456\n",
            "Epoch 69: Train Acc: 0.9952, Train err: 0.0048, Train loss: 0.0125 | Validation Acc: 0.8905, Validation err: 0.1095, Validation loss: 0.5384\n",
            "Epoch 70: Train Acc: 0.9945, Train err: 0.0055, Train loss: 0.0248 | Validation Acc: 0.8810, Validation err: 0.1190, Validation loss: 0.6035\n",
            "Epoch 71: Train Acc: 0.9966, Train err: 0.0034, Train loss: 0.0107 | Validation Acc: 0.8214, Validation err: 0.1786, Validation loss: 1.0830\n",
            "Epoch 72: Train Acc: 0.9952, Train err: 0.0048, Train loss: 0.0242 | Validation Acc: 0.8810, Validation err: 0.1190, Validation loss: 0.5388\n",
            "Epoch 73: Train Acc: 0.9973, Train err: 0.0027, Train loss: 0.0091 | Validation Acc: 0.8690, Validation err: 0.1310, Validation loss: 0.5859\n",
            "Epoch 74: Train Acc: 0.9966, Train err: 0.0034, Train loss: 0.0129 | Validation Acc: 0.8786, Validation err: 0.1214, Validation loss: 0.5537\n",
            "Epoch 75: Train Acc: 0.9986, Train err: 0.0014, Train loss: 0.0044 | Validation Acc: 0.8857, Validation err: 0.1143, Validation loss: 0.5994\n",
            "Epoch 76: Train Acc: 0.9973, Train err: 0.0027, Train loss: 0.0079 | Validation Acc: 0.8857, Validation err: 0.1143, Validation loss: 0.5580\n",
            "Epoch 77: Train Acc: 0.9980, Train err: 0.0020, Train loss: 0.0165 | Validation Acc: 0.8762, Validation err: 0.1238, Validation loss: 0.6839\n",
            "Epoch 78: Train Acc: 0.9959, Train err: 0.0041, Train loss: 0.0095 | Validation Acc: 0.8595, Validation err: 0.1405, Validation loss: 0.8702\n",
            "Epoch 79: Train Acc: 0.9945, Train err: 0.0055, Train loss: 0.0205 | Validation Acc: 0.8500, Validation err: 0.1500, Validation loss: 0.8047\n",
            "Epoch 80: Train Acc: 0.9973, Train err: 0.0027, Train loss: 0.0155 | Validation Acc: 0.8619, Validation err: 0.1381, Validation loss: 0.7062\n",
            "Epoch 81: Train Acc: 0.9945, Train err: 0.0055, Train loss: 0.0170 | Validation Acc: 0.8786, Validation err: 0.1214, Validation loss: 0.6071\n",
            "Epoch 82: Train Acc: 0.9959, Train err: 0.0041, Train loss: 0.0099 | Validation Acc: 0.8333, Validation err: 0.1667, Validation loss: 0.7225\n",
            "Epoch 83: Train Acc: 0.9973, Train err: 0.0027, Train loss: 0.0081 | Validation Acc: 0.7714, Validation err: 0.2286, Validation loss: 1.0641\n",
            "Epoch 84: Train Acc: 0.9973, Train err: 0.0027, Train loss: 0.0106 | Validation Acc: 0.8929, Validation err: 0.1071, Validation loss: 0.6098\n",
            "Epoch 85: Train Acc: 0.9918, Train err: 0.0082, Train loss: 0.0213 | Validation Acc: 0.8881, Validation err: 0.1119, Validation loss: 0.4991\n",
            "Epoch 86: Train Acc: 0.9966, Train err: 0.0034, Train loss: 0.0143 | Validation Acc: 0.8952, Validation err: 0.1048, Validation loss: 0.5532\n",
            "Epoch 87: Train Acc: 0.9925, Train err: 0.0075, Train loss: 0.0305 | Validation Acc: 0.6548, Validation err: 0.3452, Validation loss: 2.3598\n",
            "Epoch 88: Train Acc: 0.9898, Train err: 0.0102, Train loss: 0.0318 | Validation Acc: 0.7929, Validation err: 0.2071, Validation loss: 0.9312\n",
            "Epoch 89: Train Acc: 0.9870, Train err: 0.0130, Train loss: 0.0390 | Validation Acc: 0.8952, Validation err: 0.1048, Validation loss: 0.5695\n",
            "Epoch 90: Train Acc: 0.9891, Train err: 0.0109, Train loss: 0.0489 | Validation Acc: 0.8690, Validation err: 0.1310, Validation loss: 0.6383\n",
            "Epoch 91: Train Acc: 0.9843, Train err: 0.0157, Train loss: 0.0493 | Validation Acc: 0.8762, Validation err: 0.1238, Validation loss: 0.5234\n",
            "Epoch 92: Train Acc: 0.9904, Train err: 0.0096, Train loss: 0.0348 | Validation Acc: 0.8810, Validation err: 0.1190, Validation loss: 0.6139\n",
            "Epoch 93: Train Acc: 0.9952, Train err: 0.0048, Train loss: 0.0191 | Validation Acc: 0.8667, Validation err: 0.1333, Validation loss: 0.5304\n",
            "Epoch 94: Train Acc: 0.9986, Train err: 0.0014, Train loss: 0.0088 | Validation Acc: 0.8929, Validation err: 0.1071, Validation loss: 0.5252\n",
            "Epoch 95: Train Acc: 0.9986, Train err: 0.0014, Train loss: 0.0082 | Validation Acc: 0.8810, Validation err: 0.1190, Validation loss: 0.5887\n",
            "Epoch 96: Train Acc: 0.9980, Train err: 0.0020, Train loss: 0.0070 | Validation Acc: 0.8619, Validation err: 0.1381, Validation loss: 0.7291\n",
            "Epoch 97: Train Acc: 0.9911, Train err: 0.0089, Train loss: 0.0361 | Validation Acc: 0.8571, Validation err: 0.1429, Validation loss: 0.6450\n",
            "Epoch 98: Train Acc: 0.9925, Train err: 0.0075, Train loss: 0.0262 | Validation Acc: 0.8690, Validation err: 0.1310, Validation loss: 0.5212\n",
            "Epoch 99: Train Acc: 0.9911, Train err: 0.0089, Train loss: 0.0337 | Validation Acc: 0.7976, Validation err: 0.2024, Validation loss: 0.7197\n",
            "Epoch 100: Train Acc: 0.9959, Train err: 0.0041, Train loss: 0.0244 | Validation Acc: 0.8881, Validation err: 0.1119, Validation loss: 0.4843\n",
            "Epoch 101: Train Acc: 0.9945, Train err: 0.0055, Train loss: 0.0197 | Validation Acc: 0.8167, Validation err: 0.1833, Validation loss: 0.6993\n",
            "Epoch 102: Train Acc: 0.9966, Train err: 0.0034, Train loss: 0.0116 | Validation Acc: 0.8857, Validation err: 0.1143, Validation loss: 0.4438\n",
            "Epoch 103: Train Acc: 0.9986, Train err: 0.0014, Train loss: 0.0048 | Validation Acc: 0.8881, Validation err: 0.1119, Validation loss: 0.4015\n",
            "Epoch 104: Train Acc: 0.9986, Train err: 0.0014, Train loss: 0.0044 | Validation Acc: 0.8952, Validation err: 0.1048, Validation loss: 0.4116\n",
            "Epoch 105: Train Acc: 0.9993, Train err: 0.0007, Train loss: 0.0037 | Validation Acc: 0.9167, Validation err: 0.0833, Validation loss: 0.3891\n",
            "Epoch 106: Train Acc: 0.9980, Train err: 0.0020, Train loss: 0.0065 | Validation Acc: 0.9024, Validation err: 0.0976, Validation loss: 0.4756\n",
            "Epoch 107: Train Acc: 0.9973, Train err: 0.0027, Train loss: 0.0087 | Validation Acc: 0.8833, Validation err: 0.1167, Validation loss: 0.5815\n",
            "Epoch 108: Train Acc: 0.9973, Train err: 0.0027, Train loss: 0.0099 | Validation Acc: 0.9024, Validation err: 0.0976, Validation loss: 0.4168\n",
            "Epoch 109: Train Acc: 0.9959, Train err: 0.0041, Train loss: 0.0141 | Validation Acc: 0.8952, Validation err: 0.1048, Validation loss: 0.5315\n",
            "Epoch 110: Train Acc: 0.9973, Train err: 0.0027, Train loss: 0.0174 | Validation Acc: 0.8881, Validation err: 0.1119, Validation loss: 0.5001\n",
            "Epoch 111: Train Acc: 1.0000, Train err: 0.0000, Train loss: 0.0024 | Validation Acc: 0.8738, Validation err: 0.1262, Validation loss: 0.5394\n",
            "Epoch 112: Train Acc: 1.0000, Train err: 0.0000, Train loss: 0.0025 | Validation Acc: 0.8929, Validation err: 0.1071, Validation loss: 0.5384\n",
            "Epoch 113: Train Acc: 0.9986, Train err: 0.0014, Train loss: 0.0031 | Validation Acc: 0.9024, Validation err: 0.0976, Validation loss: 0.4508\n",
            "Epoch 114: Train Acc: 1.0000, Train err: 0.0000, Train loss: 0.0006 | Validation Acc: 0.9071, Validation err: 0.0929, Validation loss: 0.3991\n",
            "Epoch 115: Train Acc: 1.0000, Train err: 0.0000, Train loss: 0.0007 | Validation Acc: 0.9024, Validation err: 0.0976, Validation loss: 0.4333\n",
            "Epoch 116: Train Acc: 1.0000, Train err: 0.0000, Train loss: 0.0002 | Validation Acc: 0.8881, Validation err: 0.1119, Validation loss: 0.4334\n",
            "Epoch 117: Train Acc: 0.9993, Train err: 0.0007, Train loss: 0.0016 | Validation Acc: 0.9024, Validation err: 0.0976, Validation loss: 0.4383\n",
            "Epoch 118: Train Acc: 1.0000, Train err: 0.0000, Train loss: 0.0003 | Validation Acc: 0.8976, Validation err: 0.1024, Validation loss: 0.4900\n",
            "Epoch 119: Train Acc: 0.9986, Train err: 0.0014, Train loss: 0.0051 | Validation Acc: 0.9000, Validation err: 0.1000, Validation loss: 0.4334\n",
            "Epoch 120: Train Acc: 0.9986, Train err: 0.0014, Train loss: 0.0019 | Validation Acc: 0.8976, Validation err: 0.1024, Validation loss: 0.4360\n",
            "Epoch 121: Train Acc: 1.0000, Train err: 0.0000, Train loss: 0.0005 | Validation Acc: 0.8952, Validation err: 0.1048, Validation loss: 0.4453\n",
            "Epoch 122: Train Acc: 1.0000, Train err: 0.0000, Train loss: 0.0002 | Validation Acc: 0.9048, Validation err: 0.0952, Validation loss: 0.4564\n",
            "Epoch 123: Train Acc: 1.0000, Train err: 0.0000, Train loss: 0.0002 | Validation Acc: 0.9000, Validation err: 0.1000, Validation loss: 0.4637\n",
            "Epoch 124: Train Acc: 1.0000, Train err: 0.0000, Train loss: 0.0002 | Validation Acc: 0.9024, Validation err: 0.0976, Validation loss: 0.4143\n",
            "Epoch 125: Train Acc: 1.0000, Train err: 0.0000, Train loss: 0.0002 | Validation Acc: 0.9071, Validation err: 0.0929, Validation loss: 0.4345\n",
            "Epoch 126: Train Acc: 1.0000, Train err: 0.0000, Train loss: 0.0002 | Validation Acc: 0.9095, Validation err: 0.0905, Validation loss: 0.4391\n",
            "Epoch 127: Train Acc: 1.0000, Train err: 0.0000, Train loss: 0.0001 | Validation Acc: 0.9095, Validation err: 0.0905, Validation loss: 0.4584\n",
            "Epoch 128: Train Acc: 1.0000, Train err: 0.0000, Train loss: 0.0002 | Validation Acc: 0.9119, Validation err: 0.0881, Validation loss: 0.4661\n",
            "Epoch 129: Train Acc: 1.0000, Train err: 0.0000, Train loss: 0.0002 | Validation Acc: 0.9119, Validation err: 0.0881, Validation loss: 0.4052\n",
            "Epoch 130: Train Acc: 1.0000, Train err: 0.0000, Train loss: 0.0001 | Validation Acc: 0.9119, Validation err: 0.0881, Validation loss: 0.4482\n",
            "Epoch 131: Train Acc: 1.0000, Train err: 0.0000, Train loss: 0.0001 | Validation Acc: 0.9095, Validation err: 0.0905, Validation loss: 0.4319\n",
            "Epoch 132: Train Acc: 1.0000, Train err: 0.0000, Train loss: 0.0001 | Validation Acc: 0.9119, Validation err: 0.0881, Validation loss: 0.4022\n",
            "Epoch 133: Train Acc: 1.0000, Train err: 0.0000, Train loss: 0.0001 | Validation Acc: 0.9119, Validation err: 0.0881, Validation loss: 0.4304\n",
            "Epoch 134: Train Acc: 1.0000, Train err: 0.0000, Train loss: 0.0001 | Validation Acc: 0.9167, Validation err: 0.0833, Validation loss: 0.4227\n",
            "Epoch 135: Train Acc: 1.0000, Train err: 0.0000, Train loss: 0.0001 | Validation Acc: 0.9167, Validation err: 0.0833, Validation loss: 0.4733\n",
            "Epoch 136: Train Acc: 1.0000, Train err: 0.0000, Train loss: 0.0001 | Validation Acc: 0.9190, Validation err: 0.0810, Validation loss: 0.4356\n",
            "Epoch 137: Train Acc: 1.0000, Train err: 0.0000, Train loss: 0.0001 | Validation Acc: 0.9190, Validation err: 0.0810, Validation loss: 0.4305\n",
            "Epoch 138: Train Acc: 1.0000, Train err: 0.0000, Train loss: 0.0001 | Validation Acc: 0.9143, Validation err: 0.0857, Validation loss: 0.4199\n",
            "Epoch 139: Train Acc: 1.0000, Train err: 0.0000, Train loss: 0.0001 | Validation Acc: 0.9143, Validation err: 0.0857, Validation loss: 0.4245\n",
            "Epoch 140: Train Acc: 1.0000, Train err: 0.0000, Train loss: 0.0001 | Validation Acc: 0.9143, Validation err: 0.0857, Validation loss: 0.4025\n",
            "Epoch 141: Train Acc: 1.0000, Train err: 0.0000, Train loss: 0.0001 | Validation Acc: 0.9167, Validation err: 0.0833, Validation loss: 0.4313\n",
            "Epoch 142: Train Acc: 1.0000, Train err: 0.0000, Train loss: 0.0001 | Validation Acc: 0.9143, Validation err: 0.0857, Validation loss: 0.4343\n",
            "Epoch 143: Train Acc: 1.0000, Train err: 0.0000, Train loss: 0.0001 | Validation Acc: 0.9167, Validation err: 0.0833, Validation loss: 0.4260\n",
            "Epoch 144: Train Acc: 1.0000, Train err: 0.0000, Train loss: 0.0001 | Validation Acc: 0.9143, Validation err: 0.0857, Validation loss: 0.4125\n",
            "Epoch 145: Train Acc: 1.0000, Train err: 0.0000, Train loss: 0.0001 | Validation Acc: 0.9143, Validation err: 0.0857, Validation loss: 0.4112\n",
            "Epoch 146: Train Acc: 1.0000, Train err: 0.0000, Train loss: 0.0001 | Validation Acc: 0.9167, Validation err: 0.0833, Validation loss: 0.4167\n",
            "Epoch 147: Train Acc: 1.0000, Train err: 0.0000, Train loss: 0.0001 | Validation Acc: 0.9167, Validation err: 0.0833, Validation loss: 0.3990\n",
            "Epoch 148: Train Acc: 1.0000, Train err: 0.0000, Train loss: 0.0001 | Validation Acc: 0.9190, Validation err: 0.0810, Validation loss: 0.4141\n",
            "Epoch 149: Train Acc: 1.0000, Train err: 0.0000, Train loss: 0.0001 | Validation Acc: 0.9190, Validation err: 0.0810, Validation loss: 0.3852\n",
            "Epoch 150: Train Acc: 1.0000, Train err: 0.0000, Train loss: 0.0001 | Validation Acc: 0.9167, Validation err: 0.0833, Validation loss: 0.4079\n",
            "Finished Training\n",
            "Total time elapsed: 2292.12 seconds\n"
          ]
        }
      ]
    },
    {
      "cell_type": "code",
      "source": [
        "def plot_acc():\n",
        "    import matplotlib.pyplot as plt\n",
        "    train_acc = np.loadtxt(\"/content/CombinedModel_train_acc.csv\")\n",
        "    val_acc = np.loadtxt(\"/content/CombinedModel_val_acc.csv\")\n",
        "    plt.title(\"Train vs Validation Accuracy\")\n",
        "    n = len(train_acc) # number of epochs\n",
        "    plt.plot(range(1,n+1), train_acc, label=\"Train\")\n",
        "    plt.plot(range(1,n+1), val_acc, label=\"Validation\")\n",
        "    plt.xlabel(\"Epoch\")\n",
        "    plt.ylabel(\"Accuracy\")\n",
        "    plt.legend(loc='best')\n",
        "    plt.show()\n",
        "plot_acc()"
      ],
      "metadata": {
        "colab": {
          "base_uri": "https://localhost:8080/",
          "height": 472
        },
        "id": "s4YkasTlMzUL",
        "outputId": "670655b2-d028-4588-e397-f856723cca1d"
      },
      "execution_count": 26,
      "outputs": [
        {
          "output_type": "display_data",
          "data": {
            "text/plain": [
              "<Figure size 640x480 with 1 Axes>"
            ],
            "image/png": "[encoded data removed]"
          },
          "metadata": {}
        }
      ]
    },
    {
      "cell_type": "code",
      "source": [
        "import torch\n",
        "import torch.nn.functional as F\n",
        "import matplotlib.pyplot as plt\n",
        "import random\n",
        "\n",
        "\n",
        "device = torch.device('cuda' if torch.cuda.is_available() else 'cpu')\n",
        "model.to(device)\n",
        "\n",
        "index = random.randint(0, len(val_images) - 1)\n",
        "image, true_label = val_images[index]\n",
        "print(\"True label:\", true_label)\n",
        "\n",
        "# Moving the image to CUDA\n",
        "image = image.to(device)\n",
        "\n",
        "resized_image = F.interpolate(image.unsqueeze(0), size=(64, 64), mode='bilinear', align_corners=False)\n",
        "\n",
        "#Put image on CUDA\n",
        "resized_image = resized_image.to(device)\n",
        "\n",
        "output = model(resized_image)\n",
        "_, predicted_label = torch.max(output, 1)\n",
        "print(\"Predicted label:\", predicted_label.item())\n",
        "\n",
        "# Moving the image back to CPU for visualization\n",
        "image = image.cpu()\n",
        "\n",
        "plt.imshow(image.permute(1, 2, 0))\n",
        "plt.show()"
      ],
      "metadata": {
        "colab": {
          "base_uri": "https://localhost:8080/",
          "height": 486
        },
        "id": "jTHwNI7TNDhQ",
        "outputId": "bbe1b7cc-34f7-4509-a93b-3a8214062b84"
      },
      "execution_count": 31,
      "outputs": [
        {
          "output_type": "stream",
          "name": "stdout",
          "text": [
            "True label: 2\n"
          ]
        },
        {
          "output_type": "stream",
          "name": "stderr",
          "text": [
            "WARNING:matplotlib.image:Clipping input data to the valid range for imshow with RGB data ([0..1] for floats or [0..255] for integers).\n"
          ]
        },
        {
          "output_type": "stream",
          "name": "stdout",
          "text": [
            "Predicted label: 2\n"
          ]
        },
        {
          "output_type": "display_data",
          "data": {
            "text/plain": [
              "<Figure size 640x480 with 1 Axes>"
            ],
            "image/png": "[encoded data removed]"
          },
          "metadata": {}
        }
      ]
    },
    {
      "cell_type": "code",
      "source": [
        "device = torch.device('cuda' if torch.cuda.is_available() else 'cpu')\n",
        "model.to(device)\n",
        "\n",
        "index = random.randint(0, len(val_images) - 1)\n",
        "image, true_label = val_images[index]\n",
        "print(\"True label:\", true_label)\n",
        "\n",
        "# Moving the image to CUDA\n",
        "image = image.to(device)\n",
        "\n",
        "resized_image = F.interpolate(image.unsqueeze(0), size=(64, 64), mode='bilinear', align_corners=False)\n",
        "\n",
        "#Put image on CUDA\n",
        "resized_image = resized_image.to(device)\n",
        "\n",
        "output = model(resized_image)\n",
        "_, predicted_label = torch.max(output, 1)\n",
        "print(\"Predicted label:\", predicted_label.item())\n",
        "\n",
        "# Moving the image back to CPU for visualization\n",
        "image = image.cpu()\n",
        "\n",
        "plt.imshow(image.permute(1, 2, 0))\n",
        "plt.show()"
      ],
      "metadata": {
        "colab": {
          "base_uri": "https://localhost:8080/",
          "height": 486
        },
        "id": "Nla-RJdwPC3l",
        "outputId": "9578150d-77b5-44eb-eabe-0b71dca9674e"
      },
      "execution_count": 32,
      "outputs": [
        {
          "output_type": "stream",
          "name": "stdout",
          "text": [
            "True label: 0\n",
            "Predicted label: 0\n"
          ]
        },
        {
          "output_type": "stream",
          "name": "stderr",
          "text": [
            "WARNING:matplotlib.image:Clipping input data to the valid range for imshow with RGB data ([0..1] for floats or [0..255] for integers).\n"
          ]
        },
        {
          "output_type": "display_data",
          "data": {
            "text/plain": [
              "<Figure size 640x480 with 1 Axes>"
            ],
            "image/png": "[encoded data removed]"
          },
          "metadata": {}
        }
      ]
    }
  ],
  "metadata": {
    "accelerator": "GPU",
    "colab": {
      "gpuType": "T4",
      "provenance": []
    },
    "kernelspec": {
      "display_name": "Python 3",
      "name": "python3"
    },
    "language_info": {
      "name": "python"
    }
  },
  "nbformat": 4,
  "nbformat_minor": 0
}