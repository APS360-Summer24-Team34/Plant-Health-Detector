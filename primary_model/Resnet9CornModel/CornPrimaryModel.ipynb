{
  "cells": [
    {
      "cell_type": "code",
      "execution_count": null,
      "metadata": {},
      "outputs": [],
      "source": [
        "#NOTE: This file contains the entire model + training + evaluation + dedubgging cells"
      ]
    },
    {
      "cell_type": "code",
      "execution_count": 1,
      "metadata": {
        "id": "rdW8UhCfE8C2"
      },
      "outputs": [],
      "source": [
        "import os                       # for working with files\n",
        "import numpy as np              # for numerical computationss\n",
        "import pandas as pd             # for working with dataframes\n",
        "import torch                    # Pytorch module\n",
        "import matplotlib.pyplot as plt # for plotting informations on graph and images using tensors\n",
        "import torch.nn as nn           # for creating  neural networks\n",
        "from torch.utils.data import DataLoader # for dataloaders\n",
        "from PIL import Image           # for checking images\n",
        "import torch.nn.functional as F # for functions for calculating loss\n",
        "import torchvision.transforms as transforms   # for transforming images into tensors\n",
        "from torchvision.utils import make_grid       # for data checking\n",
        "from torchvision.datasets import ImageFolder  # for working with classes and images\n",
        "from torchsummary import summary              # for getting the summary of our model\n",
        "\n",
        "from torchvision import datasets, transforms, models\n",
        "\n",
        "%matplotlib inline"
      ]
    },
    {
      "cell_type": "code",
      "execution_count": 2,
      "metadata": {
        "colab": {
          "base_uri": "https://localhost:8080/"
        },
        "id": "fX2cxcqOSNAB",
        "outputId": "958c7800-639b-4e57-ba8e-b64081098a14"
      },
      "outputs": [
        {
          "name": "stdout",
          "output_type": "stream",
          "text": [
            "GPU is available. Using GPU.\n"
          ]
        }
      ],
      "source": [
        "# Check if CUDA (GPU) is available\n",
        "if torch.cuda.is_available():\n",
        "    device = torch.device('cuda')\n",
        "    print(\"GPU is available. Using GPU.\")\n",
        "else:\n",
        "    device = torch.device('cpu')\n",
        "    print(\"GPU not available. Using CPU instead.\")"
      ]
    },
    {
      "cell_type": "code",
      "execution_count": 3,
      "metadata": {
        "colab": {
          "base_uri": "https://localhost:8080/"
        },
        "id": "lY2YkCf1Befy",
        "outputId": "d5f435ce-0711-4c34-8fa2-85fb52020da7"
      },
      "outputs": [
        {
          "name": "stdout",
          "output_type": "stream",
          "text": [
            "Mounted at /content/drive\n"
          ]
        }
      ],
      "source": [
        "from google.colab import drive\n",
        "drive.mount('/content/drive', force_remount=True)"
      ]
    },
    {
      "cell_type": "code",
      "execution_count": 4,
      "metadata": {
        "id": "shN7rQWYBrrK"
      },
      "outputs": [],
      "source": [
        "#train_dir = '/content/drive/My Drive/1. UofT/1. Second Year/APS360/APS360 Project/Corn_Dataset/Corn_Training'\n",
        "#val_dir = '/content/drive/My Drive/1. UofT/1. Second Year/APS360/APS360 Project/Corn_Dataset/Corn_Validation'\n",
        "\n",
        "train_dir = '/content/drive/My Drive/Corn_Dataset/Corn_Training'\n",
        "val_dir = '/content/drive/My Drive/Corn_Dataset/Corn_Validation'"
      ]
    },
    {
      "cell_type": "code",
      "execution_count": null,
      "metadata": {
        "colab": {
          "base_uri": "https://localhost:8080/"
        },
        "id": "98pi3gnSN2cy",
        "outputId": "92ffc451-dcfc-4ece-cd32-4211f563d03f"
      },
      "outputs": [
        {
          "name": "stdout",
          "output_type": "stream",
          "text": [
            "[]\n",
            "[]\n"
          ]
        }
      ],
      "source": [
        "# List files in one of the class subdirectories: Check to make sure file organization is correct\n",
        "class_dir = os.path.join(train_dir, 'Corn_train_common_rust_resized')\n",
        "all_files = os.listdir(class_dir)\n",
        "print(all_files)\n",
        "print(os.listdir(class_dir))"
      ]
    },
    {
      "cell_type": "code",
      "execution_count": 5,
      "metadata": {
        "id": "_KxVGZC0JcXR"
      },
      "outputs": [],
      "source": [
        "# datasets for validation and training and testing\n",
        "train = ImageFolder(train_dir, transform=transforms.ToTensor())\n",
        "valid = ImageFolder(val_dir, transform=transforms.ToTensor())"
      ]
    },
    {
      "cell_type": "code",
      "execution_count": 6,
      "metadata": {
        "colab": {
          "base_uri": "https://localhost:8080/"
        },
        "id": "frQJb9O9QdpD",
        "outputId": "a1658289-2353-405c-c9bf-6f044f6bf797"
      },
      "outputs": [
        {
          "data": {
            "text/plain": [
              "<torch._C.Generator at 0x7d8c5a5116d0>"
            ]
          },
          "execution_count": 6,
          "metadata": {},
          "output_type": "execute_result"
        }
      ],
      "source": [
        "# Setting the seed value\n",
        "random_seed = 7\n",
        "torch.manual_seed(random_seed)"
      ]
    },
    {
      "cell_type": "code",
      "execution_count": 18,
      "metadata": {
        "id": "MRvsHCkPQfr0"
      },
      "outputs": [],
      "source": [
        "# setting the batch size\n",
        "batch_size = 128"
      ]
    },
    {
      "cell_type": "code",
      "execution_count": 19,
      "metadata": {
        "id": "V7iO6wfuQhYn"
      },
      "outputs": [],
      "source": [
        "# DataLoaders for training and validation\n",
        "train_dl = DataLoader(train, batch_size, shuffle=True, num_workers=2, pin_memory=True)\n",
        "valid_dl = DataLoader(valid, batch_size, num_workers=2, pin_memory=True)"
      ]
    },
    {
      "cell_type": "code",
      "execution_count": 41,
      "metadata": {
        "id": "yFEJUgr2QzuA"
      },
      "outputs": [],
      "source": [
        "# for moving data into GPU (if available)\n",
        "def get_default_device():\n",
        "    \"\"\"Pick GPU if available, else CPU\"\"\"\n",
        "    if torch.cuda.is_available:\n",
        "        return torch.device(\"cuda\")\n",
        "    else:\n",
        "        return torch.device(\"cpu\")\n",
        "\n",
        "# for moving data to device (CPU or GPU)\n",
        "def to_device(data, device):\n",
        "    \"\"\"Move tensor(s) to chosen device\"\"\"\n",
        "    if isinstance(data, (list,tuple)):\n",
        "        return [to_device(x, device) for x in data]\n",
        "    return data.to(device, non_blocking=True)\n",
        "\n",
        "# for loading in the device (GPU if available else CPU)\n",
        "class DeviceDataLoader():\n",
        "    \"\"\"Wrap a dataloader to move data to a device\"\"\"\n",
        "    def __init__(self, dl, device):\n",
        "        self.dl = dl\n",
        "        self.device = device\n",
        "\n",
        "    def __iter__(self):\n",
        "        \"\"\"Yield a batch of data after moving it to device\"\"\"\n",
        "        for b in self.dl:\n",
        "            yield to_device(b, self.device)\n",
        "\n",
        "    def __len__(self):\n",
        "        \"\"\"Number of batches\"\"\"\n",
        "        return len(self.dl)"
      ]
    },
    {
      "cell_type": "code",
      "execution_count": 42,
      "metadata": {
        "colab": {
          "base_uri": "https://localhost:8080/"
        },
        "id": "82cB8Y82Q3ui",
        "outputId": "a8dc88f4-98df-4f6a-99ed-6fd146424683"
      },
      "outputs": [
        {
          "name": "stdout",
          "output_type": "stream",
          "text": [
            "cuda\n"
          ]
        }
      ],
      "source": [
        "device = get_default_device()\n",
        "print(device)"
      ]
    },
    {
      "cell_type": "code",
      "execution_count": 43,
      "metadata": {
        "id": "78f4oG22Q7JZ"
      },
      "outputs": [],
      "source": [
        "# Moving data into GPU\n",
        "train_dl = DeviceDataLoader(train_dl, device)\n",
        "valid_dl = DeviceDataLoader(valid_dl, device)"
      ]
    },
    {
      "cell_type": "code",
      "execution_count": 11,
      "metadata": {
        "id": "vWM4VKRnRAUh"
      },
      "outputs": [],
      "source": [
        "class SimpleResidualBlock(nn.Module):\n",
        "    def __init__(self):\n",
        "        super().__init__()\n",
        "        self.conv1 = nn.Conv2d(in_channels=3, out_channels=3, kernel_size=3, stride=1, padding=1)\n",
        "        self.relu1 = nn.ReLU()\n",
        "        self.conv2 = nn.Conv2d(in_channels=3, out_channels=3, kernel_size=3, stride=1, padding=1)\n",
        "        self.relu2 = nn.ReLU()\n",
        "\n",
        "    def forward(self, x):\n",
        "        out = self.conv1(x)\n",
        "        out = self.relu1(out)\n",
        "        out = self.conv2(out)\n",
        "        return self.relu2(out) + x # ReLU can be applied before or after adding the input"
      ]
    },
    {
      "cell_type": "code",
      "execution_count": 46,
      "metadata": {
        "id": "PnLmyDFKRJeb"
      },
      "outputs": [],
      "source": [
        "# for calculating the accuracy\n",
        "def accuracy(outputs, labels):\n",
        "    _, preds = torch.max(outputs, dim=1)\n",
        "    return torch.tensor(torch.sum(preds == labels).item() / len(preds))\n",
        "\n",
        "#functions below are the ones used in lab2/lab3 of APS360\n",
        "def evaluateAlt(net, loader, criterion):\n",
        "    net.eval()\n",
        "    total_loss = 0.0\n",
        "    total_err = 0.0\n",
        "    total_correct = 0\n",
        "    total_samples = 0\n",
        "    with torch.no_grad():\n",
        "        for i, data in enumerate(loader, 0):\n",
        "            inputs, labels = data\n",
        "            inputs, labels = inputs.to(device), labels.to(device)\n",
        "            outputs = net(inputs)\n",
        "            loss = criterion(outputs, labels)\n",
        "            _, predicted = torch.max(outputs, 1)\n",
        "            total_correct += (predicted == labels).sum().item()\n",
        "            total_samples += labels.size(0)\n",
        "            total_loss += loss.item()\n",
        "            total_err += (predicted != labels).sum().item()\n",
        "    accuracy = total_correct / total_samples\n",
        "    err = float(total_err) / total_samples\n",
        "    loss = float(total_loss) / (i + 1)\n",
        "    return accuracy, err, loss\n",
        "\n",
        "\n",
        "\n",
        "# base class for the model\n",
        "class ImageClassificationBase(nn.Module):\n",
        "\n",
        "    def training_step(self, batch):\n",
        "        images, labels = batch\n",
        "        out = self(images)                  # Generate predictions\n",
        "        loss = F.cross_entropy(out, labels) # Calculate loss\n",
        "        return loss\n",
        "\n",
        "    def validation_step(self, batch):\n",
        "        images, labels = batch\n",
        "        images = images.to(device)  # Ensure images are on the correct device\n",
        "        labels = labels.to(device)  # Ensure labels are on the correct device\n",
        "        out = self(images)                   # Generate prediction\n",
        "        loss = F.cross_entropy(out, labels)  # Calculate loss\n",
        "        acc = accuracy(out, labels)          # Calculate accuracy\n",
        "        return {\"val_loss\": loss.detach(), \"val_accuracy\": acc}\n",
        "\n",
        "    def validation_epoch_end(self, outputs):\n",
        "        batch_losses = [x[\"val_loss\"] for x in outputs]\n",
        "        batch_accuracy = [x[\"val_accuracy\"] for x in outputs]\n",
        "        epoch_loss = torch.stack(batch_losses).mean()       # Combine loss\n",
        "        epoch_accuracy = torch.stack(batch_accuracy).mean()\n",
        "        return {\"val_loss\": epoch_loss, \"val_accuracy\": epoch_accuracy} # Combine accuracies\n",
        "\n",
        "    def epoch_end(self, epoch, result):\n",
        "        print(\"Epoch [{}], last_lr: {:.5f}, train_loss: {:.4f}, val_loss: {:.4f}, val_acc: {:.4f}\".format(\n",
        "            epoch, result['lrs'][-1], result['train_loss'], result['val_loss'], result['val_accuracy']))"
      ]
    },
    {
      "cell_type": "code",
      "execution_count": 13,
      "metadata": {
        "id": "an6UcvsaRMhB"
      },
      "outputs": [],
      "source": [
        "#Architecture for training\n",
        "\n",
        "# convolution block with BatchNormalization\n",
        "def ConvBlock(in_channels, out_channels, pool=False):\n",
        "    layers = [nn.Conv2d(in_channels, out_channels, kernel_size=3, padding=1),\n",
        "             nn.BatchNorm2d(out_channels),\n",
        "             nn.ReLU(inplace=True)]\n",
        "    if pool:\n",
        "        layers.append(nn.MaxPool2d(2))\n",
        "    return nn.Sequential(*layers)\n",
        "\n",
        "\n",
        "# resnet architecture\n",
        "class ResNet9(ImageClassificationBase):\n",
        "    def __init__(self, in_channels, num_diseases):\n",
        "        super().__init__()\n",
        "\n",
        "        self.conv1 = ConvBlock(in_channels, 64)\n",
        "        self.conv2 = ConvBlock(64, 128, pool=True) # out_dim : 128 x 64 x 64\n",
        "        self.res1 = nn.Sequential(ConvBlock(128, 128), ConvBlock(128, 128))\n",
        "\n",
        "        self.conv3 = ConvBlock(128, 256, pool=True) # out_dim : 256 x 16 x 16\n",
        "        self.conv4 = ConvBlock(256, 512, pool=True) # out_dim : 512 x 4 x 44\n",
        "        self.res2 = nn.Sequential(ConvBlock(512, 512), ConvBlock(512, 512))\n",
        "\n",
        "        self.classifier = nn.Sequential(nn.MaxPool2d(16),\n",
        "                                       nn.Flatten(),\n",
        "                                       nn.Linear(512, num_diseases))\n",
        "\n",
        "    def forward(self, xb): # xb is the loaded batch\n",
        "        out = self.conv1(xb)\n",
        "        out = self.conv2(out)\n",
        "        out = self.res1(out) + out\n",
        "        out = self.conv3(out)\n",
        "        out = self.conv4(out)\n",
        "        out = self.res2(out) + out\n",
        "        out = self.classifier(out)\n",
        "        return out"
      ]
    },
    {
      "cell_type": "code",
      "execution_count": 14,
      "metadata": {
        "colab": {
          "base_uri": "https://localhost:8080/"
        },
        "id": "_bKFSO6bRSYC",
        "outputId": "e92cdbd4-83f3-40f8-a994-53a32d1735cf"
      },
      "outputs": [
        {
          "name": "stdout",
          "output_type": "stream",
          "text": [
            "ResNet9(\n",
            "  (conv1): Sequential(\n",
            "    (0): Conv2d(3, 64, kernel_size=(3, 3), stride=(1, 1), padding=(1, 1))\n",
            "    (1): BatchNorm2d(64, eps=1e-05, momentum=0.1, affine=True, track_running_stats=True)\n",
            "    (2): ReLU(inplace=True)\n",
            "  )\n",
            "  (conv2): Sequential(\n",
            "    (0): Conv2d(64, 128, kernel_size=(3, 3), stride=(1, 1), padding=(1, 1))\n",
            "    (1): BatchNorm2d(128, eps=1e-05, momentum=0.1, affine=True, track_running_stats=True)\n",
            "    (2): ReLU(inplace=True)\n",
            "    (3): MaxPool2d(kernel_size=2, stride=2, padding=0, dilation=1, ceil_mode=False)\n",
            "  )\n",
            "  (res1): Sequential(\n",
            "    (0): Sequential(\n",
            "      (0): Conv2d(128, 128, kernel_size=(3, 3), stride=(1, 1), padding=(1, 1))\n",
            "      (1): BatchNorm2d(128, eps=1e-05, momentum=0.1, affine=True, track_running_stats=True)\n",
            "      (2): ReLU(inplace=True)\n",
            "    )\n",
            "    (1): Sequential(\n",
            "      (0): Conv2d(128, 128, kernel_size=(3, 3), stride=(1, 1), padding=(1, 1))\n",
            "      (1): BatchNorm2d(128, eps=1e-05, momentum=0.1, affine=True, track_running_stats=True)\n",
            "      (2): ReLU(inplace=True)\n",
            "    )\n",
            "  )\n",
            "  (conv3): Sequential(\n",
            "    (0): Conv2d(128, 256, kernel_size=(3, 3), stride=(1, 1), padding=(1, 1))\n",
            "    (1): BatchNorm2d(256, eps=1e-05, momentum=0.1, affine=True, track_running_stats=True)\n",
            "    (2): ReLU(inplace=True)\n",
            "    (3): MaxPool2d(kernel_size=2, stride=2, padding=0, dilation=1, ceil_mode=False)\n",
            "  )\n",
            "  (conv4): Sequential(\n",
            "    (0): Conv2d(256, 512, kernel_size=(3, 3), stride=(1, 1), padding=(1, 1))\n",
            "    (1): BatchNorm2d(512, eps=1e-05, momentum=0.1, affine=True, track_running_stats=True)\n",
            "    (2): ReLU(inplace=True)\n",
            "    (3): MaxPool2d(kernel_size=2, stride=2, padding=0, dilation=1, ceil_mode=False)\n",
            "  )\n",
            "  (res2): Sequential(\n",
            "    (0): Sequential(\n",
            "      (0): Conv2d(512, 512, kernel_size=(3, 3), stride=(1, 1), padding=(1, 1))\n",
            "      (1): BatchNorm2d(512, eps=1e-05, momentum=0.1, affine=True, track_running_stats=True)\n",
            "      (2): ReLU(inplace=True)\n",
            "    )\n",
            "    (1): Sequential(\n",
            "      (0): Conv2d(512, 512, kernel_size=(3, 3), stride=(1, 1), padding=(1, 1))\n",
            "      (1): BatchNorm2d(512, eps=1e-05, momentum=0.1, affine=True, track_running_stats=True)\n",
            "      (2): ReLU(inplace=True)\n",
            "    )\n",
            "  )\n",
            "  (classifier): Sequential(\n",
            "    (0): MaxPool2d(kernel_size=16, stride=16, padding=0, dilation=1, ceil_mode=False)\n",
            "    (1): Flatten(start_dim=1, end_dim=-1)\n",
            "    (2): Linear(in_features=512, out_features=6, bias=True)\n",
            "  )\n",
            ")\n"
          ]
        }
      ],
      "source": [
        "# defining the model and moving it to the GPU\n",
        "model = to_device(ResNet9(3, len(train.classes)), device)\n",
        "print(model)\n",
        "\n",
        "#model = ResNet9(3, len(train.classes))"
      ]
    },
    {
      "cell_type": "code",
      "execution_count": 44,
      "metadata": {
        "colab": {
          "base_uri": "https://localhost:8080/"
        },
        "id": "LG-4sV1w75Lw",
        "outputId": "005bb889-7d47-467a-de0b-9b79a83f4022"
      },
      "outputs": [
        {
          "name": "stdout",
          "output_type": "stream",
          "text": [
            "cuda:0 cuda:0\n",
            "cuda:0\n"
          ]
        }
      ],
      "source": [
        "for images, labels in train_dl:\n",
        "    # Check if data is on the same device\n",
        "    print(images.device, labels.device)\n",
        "    print(next(model.parameters()).device)\n",
        "    break  # to avoid printing too much\n"
      ]
    },
    {
      "cell_type": "code",
      "execution_count": null,
      "metadata": {
        "colab": {
          "base_uri": "https://localhost:8080/"
        },
        "id": "j2vpOBsgSwp4",
        "outputId": "bd201df2-1f07-447e-f734-a642482ac631"
      },
      "outputs": [
        {
          "name": "stdout",
          "output_type": "stream",
          "text": [
            "----------------------------------------------------------------\n",
            "        Layer (type)               Output Shape         Param #\n",
            "================================================================\n",
            "            Conv2d-1         [-1, 64, 128, 128]           1,792\n",
            "       BatchNorm2d-2         [-1, 64, 128, 128]             128\n",
            "              ReLU-3         [-1, 64, 128, 128]               0\n",
            "            Conv2d-4        [-1, 128, 128, 128]          73,856\n",
            "       BatchNorm2d-5        [-1, 128, 128, 128]             256\n",
            "              ReLU-6        [-1, 128, 128, 128]               0\n",
            "         MaxPool2d-7          [-1, 128, 64, 64]               0\n",
            "            Conv2d-8          [-1, 128, 64, 64]         147,584\n",
            "       BatchNorm2d-9          [-1, 128, 64, 64]             256\n",
            "             ReLU-10          [-1, 128, 64, 64]               0\n",
            "           Conv2d-11          [-1, 128, 64, 64]         147,584\n",
            "      BatchNorm2d-12          [-1, 128, 64, 64]             256\n",
            "             ReLU-13          [-1, 128, 64, 64]               0\n",
            "           Conv2d-14          [-1, 256, 64, 64]         295,168\n",
            "      BatchNorm2d-15          [-1, 256, 64, 64]             512\n",
            "             ReLU-16          [-1, 256, 64, 64]               0\n",
            "        MaxPool2d-17          [-1, 256, 32, 32]               0\n",
            "           Conv2d-18          [-1, 512, 32, 32]       1,180,160\n",
            "      BatchNorm2d-19          [-1, 512, 32, 32]           1,024\n",
            "             ReLU-20          [-1, 512, 32, 32]               0\n",
            "        MaxPool2d-21          [-1, 512, 16, 16]               0\n",
            "           Conv2d-22          [-1, 512, 16, 16]       2,359,808\n",
            "      BatchNorm2d-23          [-1, 512, 16, 16]           1,024\n",
            "             ReLU-24          [-1, 512, 16, 16]               0\n",
            "           Conv2d-25          [-1, 512, 16, 16]       2,359,808\n",
            "      BatchNorm2d-26          [-1, 512, 16, 16]           1,024\n",
            "             ReLU-27          [-1, 512, 16, 16]               0\n",
            "        MaxPool2d-28            [-1, 512, 1, 1]               0\n",
            "          Flatten-29                  [-1, 512]               0\n",
            "           Linear-30                    [-1, 6]           3,078\n",
            "================================================================\n",
            "Total params: 6,573,318\n",
            "Trainable params: 6,573,318\n",
            "Non-trainable params: 0\n",
            "----------------------------------------------------------------\n",
            "Input size (MB): 0.19\n",
            "Forward/backward pass size (MB): 145.01\n",
            "Params size (MB): 25.08\n",
            "Estimated Total Size (MB): 170.27\n",
            "----------------------------------------------------------------\n",
            "None\n"
          ]
        }
      ],
      "source": [
        "# getting summary of the model\n",
        "INPUT_SHAPE = (3, 128, 128)\n",
        "print(summary(model.cuda(), (INPUT_SHAPE)))"
      ]
    },
    {
      "cell_type": "code",
      "execution_count": 33,
      "metadata": {
        "id": "n3FGW-_TUSYz"
      },
      "outputs": [],
      "source": [
        "# for training\n",
        "@torch.no_grad()\n",
        "def evaluate(model, val_loader):\n",
        "    device = next(model.parameters()).device\n",
        "    model.eval()\n",
        "    outputs = [model.validation_step(batch) for batch in val_loader]\n",
        "    return model.validation_epoch_end(outputs)\n",
        "\n",
        "\n",
        "def get_lr(optimizer):\n",
        "    for param_group in optimizer.param_groups:\n",
        "        return param_group['lr']\n",
        "\n",
        "\n",
        "def fit_OneCycle(epochs, max_lr, model, train_loader, val_loader, weight_decay=0,\n",
        "                grad_clip=None, opt_func=torch.optim.SGD):\n",
        "    torch.cuda.empty_cache()\n",
        "    history = []\n",
        "\n",
        "    #Ensure model is on the GPU\n",
        "    device = torch.device(\"cuda\" if torch.cuda.is_available() else \"cpu\")\n",
        "    model.to(device)  # Move model to GPU\n",
        "\n",
        "    criterion = nn.CrossEntropyLoss()\n",
        "    optimizer = opt_func(model.parameters(), max_lr, weight_decay=weight_decay)\n",
        "    # scheduler for one cycle learniing rate\n",
        "    sched = torch.optim.lr_scheduler.OneCycleLR(optimizer, max_lr, epochs=epochs, steps_per_epoch=len(train_loader))\n",
        "\n",
        "    #Alternative\n",
        "    train_err = np.zeros(epochs)\n",
        "    train_loss = np.zeros(epochs)\n",
        "    train_acc = np.zeros(epochs)\n",
        "    val_err = np.zeros(epochs)\n",
        "    val_loss = np.zeros(epochs)\n",
        "    val_acc = np.zeros(epochs)\n",
        "    i = 0;\n",
        "\n",
        "    for epoch in range(epochs):\n",
        "        # Training\n",
        "        model.train()\n",
        "        total_train_loss = 0.0\n",
        "        total_train_err = 0.0\n",
        "        total_train_correct = 0\n",
        "        total_train_samples = 0\n",
        "        train_losses = []\n",
        "        lrs = []\n",
        "        i = i + 1\n",
        "\n",
        "        for batch in train_loader:\n",
        "            # Move input data to the GPU\n",
        "            images, labels = batch\n",
        "            images = images.to(device)  # Move images to GPU\n",
        "            labels = labels.to(device)  # Move labels to GPU\n",
        "\n",
        "            loss = model.training_step((images, labels)) #batch\n",
        "            train_losses.append(loss)\n",
        "            loss.backward()\n",
        "\n",
        "             # gradient clipping\n",
        "            if grad_clip:\n",
        "                nn.utils.clip_grad_value_(model.parameters(), grad_clip)\n",
        "\n",
        "            optimizer.step()\n",
        "            optimizer.zero_grad()\n",
        "\n",
        "            # recording and updating learning rates\n",
        "            lrs.append(get_lr(optimizer))\n",
        "            sched.step()\n",
        "\n",
        "            #Alternative\n",
        "            inputs, labels = batch\n",
        "            inputs, labels = inputs.to(device), labels.to(device)\n",
        "            labels = labels.long()\n",
        "            optimizer.zero_grad()\n",
        "\n",
        "            outputs = model(inputs)\n",
        "            loss = criterion(outputs, labels)\n",
        "            loss.backward()\n",
        "            optimizer.step()\n",
        "\n",
        "            _, predicted = torch.max(outputs, 1)\n",
        "            total_train_correct += (predicted == labels).sum().item()\n",
        "            total_train_samples += labels.size(0)\n",
        "            total_train_loss += loss.item()\n",
        "            total_train_err += (predicted != labels).sum().item()\n",
        "\n",
        "        # validation\n",
        "        result = evaluate(model, val_loader)\n",
        "        result['train_loss'] = torch.stack(train_losses).mean().item()\n",
        "        result['lrs'] = lrs\n",
        "        model.epoch_end(epoch, result)\n",
        "        history.append(result)\n",
        "\n",
        "        #Other result\n",
        "        train_acc[epoch] = total_train_correct / total_train_samples\n",
        "        train_err[epoch] = float(total_train_err) / total_train_samples\n",
        "        train_loss[epoch] = float(total_train_loss) / (i + 1)\n",
        "        val_acc[epoch], val_err[epoch], val_loss[epoch] = evaluateAlt(model, val_loader, criterion)\n",
        "        print(f\"Epoch {epoch + 1}: Train Acc: {train_acc[epoch]:.4f}, Train err: {train_err[epoch]:.4f}, Train loss: {train_loss[epoch]:.4f} | Validation Acc: {val_acc[epoch]:.4f}, Validation err: {val_err[epoch]:.4f}, Validation loss: {val_loss[epoch]:.4f}\")\n",
        "\n",
        "        # Save the model\n",
        "        model_path = f\"model_{model.__class__.__name__}_bs{batch_size}_lr{max_lr}_epoch{epoch + 1}.pth\"\n",
        "        torch.save(model.state_dict(), model_path)\n",
        "\n",
        "    print('Finished Training')\n",
        "\n",
        "    epochs = np.arange(1, epochs + 1)\n",
        "    np.savetxt(f\"{model.__class__.__name__}_train_acc.csv\", train_acc)\n",
        "    np.savetxt(f\"{model.__class__.__name__}_train_err.csv\", train_err)\n",
        "    np.savetxt(f\"{model.__class__.__name__}_train_loss.csv\", train_loss)\n",
        "    np.savetxt(f\"{model.__class__.__name__}_val_acc.csv\", val_acc)\n",
        "    np.savetxt(f\"{model.__class__.__name__}_val_err.csv\", val_err)\n",
        "    np.savetxt(f\"{model.__class__.__name__}_val_loss.csv\", val_loss)\n",
        "\n",
        "    return history"
      ]
    },
    {
      "cell_type": "code",
      "execution_count": null,
      "metadata": {
        "id": "11TmMQ-UriPb"
      },
      "outputs": [],
      "source": [
        "def initialize_weights(model):\n",
        "    for m in model.modules():\n",
        "        if isinstance(m, nn.Conv2d):\n",
        "            nn.init.xavier_uniform_(m.weight)  # Xavier initialization for Conv2d layers\n",
        "            if m.bias is not None:\n",
        "                nn.init.zeros_(m.bias)\n",
        "        elif isinstance(m, nn.Linear):\n",
        "            nn.init.xavier_uniform_(m.weight)  # Xavier initialization for Linear layers\n",
        "            if m.bias is not None:\n",
        "                nn.init.zeros_(m.bias)\n",
        "\n",
        "# Example usage\n",
        "initialize_weights(model)\n"
      ]
    },
    {
      "cell_type": "code",
      "execution_count": 16,
      "metadata": {
        "colab": {
          "base_uri": "https://localhost:8080/"
        },
        "id": "LowtSgC5Ui3X",
        "outputId": "e79c2de1-abaf-4d14-d59e-59760a3a2274"
      },
      "outputs": [
        {
          "name": "stdout",
          "output_type": "stream",
          "text": [
            "CPU times: user 1.51 s, sys: 243 ms, total: 1.76 s\n",
            "Wall time: 1min 27s\n"
          ]
        },
        {
          "data": {
            "text/plain": [
              "[{'val_loss': tensor(1.7925, device='cuda:0'), 'val_accuracy': tensor(0.1562)}]"
            ]
          },
          "execution_count": 16,
          "metadata": {},
          "output_type": "execute_result"
        }
      ],
      "source": [
        "%%time\n",
        "history = [evaluate(model, valid_dl)]\n",
        "history"
      ]
    },
    {
      "cell_type": "code",
      "execution_count": 17,
      "metadata": {
        "id": "4RAx2pEWVb45"
      },
      "outputs": [],
      "source": [
        "epochs = 100\n",
        "max_lr = 0.01 #default: 0.01\n",
        "grad_clip = 0.1\n",
        "weight_decay = 1e-4\n",
        "opt_func = torch.optim.Adam"
      ]
    },
    {
      "cell_type": "code",
      "execution_count": 47,
      "metadata": {
        "colab": {
          "base_uri": "https://localhost:8080/"
        },
        "id": "qJgwYpWAVeDd",
        "outputId": "c4ccc0a9-d652-4d1a-d7ad-63707323d03b"
      },
      "outputs": [
        {
          "name": "stdout",
          "output_type": "stream",
          "text": [
            "Epoch [0], last_lr: 0.00042, train_loss: 0.2244, val_loss: 0.5758, val_acc: 0.7780\n",
            "Epoch 1: Train Acc: 0.9358, Train err: 0.0642, Train loss: 1.1321 | Validation Acc: 0.8024, Validation err: 0.1976, Validation loss: 0.5758\n",
            "Epoch [1], last_lr: 0.00050, train_loss: 0.1791, val_loss: 0.2736, val_acc: 0.9345\n",
            "Epoch 2: Train Acc: 0.9352, Train err: 0.0648, Train loss: 0.6772 | Validation Acc: 0.9262, Validation err: 0.0738, Validation loss: 0.2736\n",
            "Epoch [2], last_lr: 0.00062, train_loss: 0.1643, val_loss: 2.0275, val_acc: 0.5206\n",
            "Epoch 3: Train Acc: 0.9502, Train err: 0.0498, Train loss: 0.4714 | Validation Acc: 0.6286, Validation err: 0.3714, Validation loss: 2.0275\n",
            "Epoch [3], last_lr: 0.00080, train_loss: 0.1879, val_loss: 0.3824, val_acc: 0.8691\n",
            "Epoch 4: Train Acc: 0.9372, Train err: 0.0628, Train loss: 0.4033 | Validation Acc: 0.8405, Validation err: 0.1595, Validation loss: 0.3824\n",
            "Epoch [4], last_lr: 0.00103, train_loss: 0.2191, val_loss: 0.4812, val_acc: 0.8598\n",
            "Epoch 5: Train Acc: 0.9195, Train err: 0.0805, Train loss: 0.4020 | Validation Acc: 0.8595, Validation err: 0.1405, Validation loss: 0.4812\n",
            "Epoch [5], last_lr: 0.00130, train_loss: 0.1735, val_loss: 0.6319, val_acc: 0.8012\n",
            "Epoch 6: Train Acc: 0.9468, Train err: 0.0532, Train loss: 0.2651 | Validation Acc: 0.8429, Validation err: 0.1571, Validation loss: 0.6319\n",
            "Epoch [6], last_lr: 0.00161, train_loss: 0.2062, val_loss: 1.0550, val_acc: 0.6280\n",
            "Epoch 7: Train Acc: 0.9242, Train err: 0.0758, Train loss: 0.2812 | Validation Acc: 0.7048, Validation err: 0.2952, Validation loss: 1.0550\n",
            "Epoch [7], last_lr: 0.00197, train_loss: 0.1186, val_loss: 0.4729, val_acc: 0.8531\n",
            "Epoch 8: Train Acc: 0.9577, Train err: 0.0423, Train loss: 0.1462 | Validation Acc: 0.8452, Validation err: 0.1548, Validation loss: 0.4729\n",
            "Epoch [8], last_lr: 0.00235, train_loss: 0.1683, val_loss: 3.2700, val_acc: 0.5645\n",
            "Epoch 9: Train Acc: 0.9461, Train err: 0.0539, Train loss: 0.1832 | Validation Acc: 0.6881, Validation err: 0.3119, Validation loss: 3.2700\n",
            "Epoch [9], last_lr: 0.00278, train_loss: 0.1792, val_loss: 0.8567, val_acc: 0.7986\n",
            "Epoch 10: Train Acc: 0.9352, Train err: 0.0648, Train loss: 0.1725 | Validation Acc: 0.8214, Validation err: 0.1786, Validation loss: 0.8567\n",
            "Epoch [10], last_lr: 0.00322, train_loss: 0.2830, val_loss: 3.4619, val_acc: 0.5957\n",
            "Epoch 11: Train Acc: 0.9256, Train err: 0.0744, Train loss: 0.2321 | Validation Acc: 0.5071, Validation err: 0.4929, Validation loss: 3.4619\n",
            "Epoch [11], last_lr: 0.00369, train_loss: 0.3096, val_loss: 1.5641, val_acc: 0.6814\n",
            "Epoch 12: Train Acc: 0.9031, Train err: 0.0969, Train loss: 0.2560 | Validation Acc: 0.7333, Validation err: 0.2667, Validation loss: 1.5641\n",
            "Epoch [12], last_lr: 0.00418, train_loss: 0.3754, val_loss: 5.5226, val_acc: 0.4805\n",
            "Epoch 13: Train Acc: 0.8990, Train err: 0.1010, Train loss: 0.2847 | Validation Acc: 0.5857, Validation err: 0.4143, Validation loss: 5.5226\n",
            "Epoch [13], last_lr: 0.00468, train_loss: 0.6195, val_loss: 23.6249, val_acc: 0.1855\n",
            "Epoch 14: Train Acc: 0.8266, Train err: 0.1734, Train loss: 0.4681 | Validation Acc: 0.2262, Validation err: 0.7738, Validation loss: 23.6249\n",
            "Epoch [14], last_lr: 0.00518, train_loss: 0.6093, val_loss: 1.7477, val_acc: 0.5836\n",
            "Epoch 15: Train Acc: 0.8177, Train err: 0.1823, Train loss: 0.4523 | Validation Acc: 0.6262, Validation err: 0.3738, Validation loss: 1.7477\n",
            "Epoch [15], last_lr: 0.00568, train_loss: 0.4752, val_loss: 0.6929, val_acc: 0.7969\n",
            "Epoch 16: Train Acc: 0.8614, Train err: 0.1386, Train loss: 0.2999 | Validation Acc: 0.7524, Validation err: 0.2476, Validation loss: 0.6929\n",
            "Epoch [16], last_lr: 0.00618, train_loss: 0.5103, val_loss: 2.2662, val_acc: 0.5174\n",
            "Epoch 17: Train Acc: 0.8437, Train err: 0.1563, Train loss: 0.3190 | Validation Acc: 0.5881, Validation err: 0.4119, Validation loss: 2.2662\n",
            "Epoch [17], last_lr: 0.00667, train_loss: 0.4674, val_loss: 0.8985, val_acc: 0.7782\n",
            "Epoch 18: Train Acc: 0.8457, Train err: 0.1543, Train loss: 0.3110 | Validation Acc: 0.7357, Validation err: 0.2643, Validation loss: 0.8985\n",
            "Epoch [18], last_lr: 0.00714, train_loss: 0.3574, val_loss: 0.4082, val_acc: 0.9082\n",
            "Epoch 19: Train Acc: 0.8737, Train err: 0.1263, Train loss: 0.2107 | Validation Acc: 0.8881, Validation err: 0.1119, Validation loss: 0.4082\n",
            "Epoch [19], last_lr: 0.00759, train_loss: 0.3458, val_loss: 0.7574, val_acc: 0.7930\n",
            "Epoch 20: Train Acc: 0.9338, Train err: 0.0662, Train loss: 0.1312 | Validation Acc: 0.7476, Validation err: 0.2524, Validation loss: 0.7574\n",
            "Epoch [20], last_lr: 0.00801, train_loss: 0.8353, val_loss: 18.1747, val_acc: 0.1680\n",
            "Epoch 21: Train Acc: 0.8034, Train err: 0.1966, Train loss: 0.4410 | Validation Acc: 0.2048, Validation err: 0.7952, Validation loss: 18.1747\n",
            "Epoch [21], last_lr: 0.00840, train_loss: 0.5149, val_loss: 5.5224, val_acc: 0.4531\n",
            "Epoch 22: Train Acc: 0.8567, Train err: 0.1433, Train loss: 0.2447 | Validation Acc: 0.5524, Validation err: 0.4476, Validation loss: 5.5224\n",
            "Epoch [22], last_lr: 0.00876, train_loss: 0.2905, val_loss: 5.8813, val_acc: 0.4238\n",
            "Epoch 23: Train Acc: 0.9304, Train err: 0.0696, Train loss: 0.1104 | Validation Acc: 0.5167, Validation err: 0.4833, Validation loss: 5.8813\n",
            "Epoch [23], last_lr: 0.00908, train_loss: 0.3160, val_loss: 4.2640, val_acc: 0.4902\n",
            "Epoch 24: Train Acc: 0.9072, Train err: 0.0928, Train loss: 0.1296 | Validation Acc: 0.5976, Validation err: 0.4024, Validation loss: 4.2640\n",
            "Epoch [24], last_lr: 0.00935, train_loss: 0.5342, val_loss: 0.8212, val_acc: 0.7899\n",
            "Epoch 25: Train Acc: 0.8676, Train err: 0.1324, Train loss: 0.2081 | Validation Acc: 0.7500, Validation err: 0.2500, Validation loss: 0.8212\n",
            "Epoch [25], last_lr: 0.00958, train_loss: 0.2424, val_loss: 2.1787, val_acc: 0.6066\n",
            "Epoch 26: Train Acc: 0.9413, Train err: 0.0587, Train loss: 0.0833 | Validation Acc: 0.6786, Validation err: 0.3214, Validation loss: 2.1787\n",
            "Epoch [26], last_lr: 0.00976, train_loss: 0.2332, val_loss: 0.7130, val_acc: 0.7365\n",
            "Epoch 27: Train Acc: 0.9283, Train err: 0.0717, Train loss: 0.0761 | Validation Acc: 0.7762, Validation err: 0.2238, Validation loss: 0.7130\n",
            "Epoch [27], last_lr: 0.00989, train_loss: 0.2002, val_loss: 0.6921, val_acc: 0.8622\n",
            "Epoch 28: Train Acc: 0.9522, Train err: 0.0478, Train loss: 0.0511 | Validation Acc: 0.8381, Validation err: 0.1619, Validation loss: 0.6921\n",
            "Epoch [28], last_lr: 0.00997, train_loss: 0.1183, val_loss: 1.1020, val_acc: 0.6916\n",
            "Epoch 29: Train Acc: 0.9795, Train err: 0.0205, Train loss: 0.0279 | Validation Acc: 0.7762, Validation err: 0.2238, Validation loss: 1.1020\n",
            "Epoch [29], last_lr: 0.01000, train_loss: 0.1010, val_loss: 0.4447, val_acc: 0.8804\n",
            "Epoch 30: Train Acc: 0.9836, Train err: 0.0164, Train loss: 0.0209 | Validation Acc: 0.8786, Validation err: 0.1214, Validation loss: 0.4447\n",
            "Epoch [30], last_lr: 0.00999, train_loss: 0.1044, val_loss: 0.4637, val_acc: 0.8796\n",
            "Epoch 31: Train Acc: 0.9863, Train err: 0.0137, Train loss: 0.0175 | Validation Acc: 0.8714, Validation err: 0.1286, Validation loss: 0.4637\n",
            "Epoch [31], last_lr: 0.00998, train_loss: 0.1502, val_loss: 0.5195, val_acc: 0.8974\n",
            "Epoch 32: Train Acc: 0.9727, Train err: 0.0273, Train loss: 0.0274 | Validation Acc: 0.8810, Validation err: 0.1190, Validation loss: 0.5195\n",
            "Epoch [32], last_lr: 0.00995, train_loss: 0.1749, val_loss: 5.5326, val_acc: 0.4922\n",
            "Epoch 33: Train Acc: 0.9625, Train err: 0.0375, Train loss: 0.0335 | Validation Acc: 0.6000, Validation err: 0.4000, Validation loss: 5.5326\n",
            "Epoch [33], last_lr: 0.00992, train_loss: 0.1409, val_loss: 0.4606, val_acc: 0.8954\n",
            "Epoch 34: Train Acc: 0.9754, Train err: 0.0246, Train loss: 0.0237 | Validation Acc: 0.8786, Validation err: 0.1214, Validation loss: 0.4606\n",
            "Epoch [34], last_lr: 0.00987, train_loss: 0.1399, val_loss: 3.0723, val_acc: 0.5069\n",
            "Epoch 35: Train Acc: 0.9782, Train err: 0.0218, Train loss: 0.0225 | Validation Acc: 0.6119, Validation err: 0.3881, Validation loss: 3.0723\n",
            "Epoch [35], last_lr: 0.00982, train_loss: 0.1985, val_loss: 1.0513, val_acc: 0.7904\n",
            "Epoch 36: Train Acc: 0.9645, Train err: 0.0355, Train loss: 0.0346 | Validation Acc: 0.7810, Validation err: 0.2190, Validation loss: 1.0513\n",
            "Epoch [36], last_lr: 0.00976, train_loss: 0.0830, val_loss: 1.0184, val_acc: 0.7797\n",
            "Epoch 37: Train Acc: 0.9836, Train err: 0.0164, Train loss: 0.0139 | Validation Acc: 0.7619, Validation err: 0.2381, Validation loss: 1.0184\n",
            "Epoch [37], last_lr: 0.00968, train_loss: 0.1238, val_loss: 0.2854, val_acc: 0.9219\n",
            "Epoch 38: Train Acc: 0.9904, Train err: 0.0096, Train loss: 0.0092 | Validation Acc: 0.9048, Validation err: 0.0952, Validation loss: 0.2854\n",
            "Epoch [38], last_lr: 0.00960, train_loss: 0.0882, val_loss: 0.3641, val_acc: 0.8965\n",
            "Epoch 39: Train Acc: 0.9891, Train err: 0.0109, Train loss: 0.0098 | Validation Acc: 0.8738, Validation err: 0.1262, Validation loss: 0.3641\n",
            "Epoch [39], last_lr: 0.00950, train_loss: 0.1046, val_loss: 0.4902, val_acc: 0.8791\n",
            "Epoch 40: Train Acc: 0.9857, Train err: 0.0143, Train loss: 0.0152 | Validation Acc: 0.8952, Validation err: 0.1048, Validation loss: 0.4902\n",
            "Epoch [40], last_lr: 0.00940, train_loss: 0.1078, val_loss: 1.4005, val_acc: 0.6717\n",
            "Epoch 41: Train Acc: 0.9863, Train err: 0.0137, Train loss: 0.0111 | Validation Acc: 0.7762, Validation err: 0.2238, Validation loss: 1.4005\n",
            "Epoch [41], last_lr: 0.00929, train_loss: 0.0481, val_loss: 0.3589, val_acc: 0.9277\n",
            "Epoch 42: Train Acc: 0.9959, Train err: 0.0041, Train loss: 0.0051 | Validation Acc: 0.9119, Validation err: 0.0881, Validation loss: 0.3589\n",
            "Epoch [42], last_lr: 0.00917, train_loss: 0.0497, val_loss: 0.4363, val_acc: 0.8978\n",
            "Epoch 43: Train Acc: 0.9939, Train err: 0.0061, Train loss: 0.0078 | Validation Acc: 0.9119, Validation err: 0.0881, Validation loss: 0.4363\n",
            "Epoch [43], last_lr: 0.00905, train_loss: 0.0684, val_loss: 0.6916, val_acc: 0.8064\n",
            "Epoch 44: Train Acc: 0.9925, Train err: 0.0075, Train loss: 0.0062 | Validation Acc: 0.8310, Validation err: 0.1690, Validation loss: 0.6916\n",
            "Epoch [44], last_lr: 0.00891, train_loss: 0.0906, val_loss: 0.4858, val_acc: 0.8843\n",
            "Epoch 45: Train Acc: 0.9925, Train err: 0.0075, Train loss: 0.0078 | Validation Acc: 0.8833, Validation err: 0.1167, Validation loss: 0.4858\n",
            "Epoch [45], last_lr: 0.00877, train_loss: 0.1097, val_loss: 0.5087, val_acc: 0.8954\n",
            "Epoch 46: Train Acc: 0.9884, Train err: 0.0116, Train loss: 0.0093 | Validation Acc: 0.8786, Validation err: 0.1214, Validation loss: 0.5087\n",
            "Epoch [46], last_lr: 0.00861, train_loss: 0.0782, val_loss: 0.5161, val_acc: 0.8904\n",
            "Epoch 47: Train Acc: 0.9911, Train err: 0.0089, Train loss: 0.0105 | Validation Acc: 0.8786, Validation err: 0.1214, Validation loss: 0.5161\n",
            "Epoch [47], last_lr: 0.00846, train_loss: 0.1078, val_loss: 0.6341, val_acc: 0.8596\n",
            "Epoch 48: Train Acc: 0.9857, Train err: 0.0143, Train loss: 0.0112 | Validation Acc: 0.8714, Validation err: 0.1286, Validation loss: 0.6341\n",
            "Epoch [48], last_lr: 0.00829, train_loss: 0.1496, val_loss: 1.7584, val_acc: 0.6660\n",
            "Epoch 49: Train Acc: 0.9891, Train err: 0.0109, Train loss: 0.0091 | Validation Acc: 0.7571, Validation err: 0.2429, Validation loss: 1.7584\n",
            "Epoch [49], last_lr: 0.00812, train_loss: 0.0820, val_loss: 1.0792, val_acc: 0.7372\n",
            "Epoch 50: Train Acc: 0.9870, Train err: 0.0130, Train loss: 0.0068 | Validation Acc: 0.7952, Validation err: 0.2048, Validation loss: 1.0792\n",
            "Epoch [50], last_lr: 0.00794, train_loss: 0.1147, val_loss: 0.5423, val_acc: 0.9160\n",
            "Epoch 51: Train Acc: 0.9904, Train err: 0.0096, Train loss: 0.0059 | Validation Acc: 0.8976, Validation err: 0.1024, Validation loss: 0.5423\n",
            "Epoch [51], last_lr: 0.00775, train_loss: 0.1159, val_loss: 0.3808, val_acc: 0.9238\n",
            "Epoch 52: Train Acc: 0.9816, Train err: 0.0184, Train loss: 0.0121 | Validation Acc: 0.9071, Validation err: 0.0929, Validation loss: 0.3808\n",
            "Epoch [52], last_lr: 0.00756, train_loss: 0.0507, val_loss: 0.3547, val_acc: 0.9277\n",
            "Epoch 53: Train Acc: 0.9945, Train err: 0.0055, Train loss: 0.0046 | Validation Acc: 0.9119, Validation err: 0.0881, Validation loss: 0.3547\n",
            "Epoch [53], last_lr: 0.00737, train_loss: 0.0380, val_loss: 0.4093, val_acc: 0.9130\n",
            "Epoch 54: Train Acc: 0.9993, Train err: 0.0007, Train loss: 0.0029 | Validation Acc: 0.9000, Validation err: 0.1000, Validation loss: 0.4093\n",
            "Epoch [54], last_lr: 0.00717, train_loss: 0.0353, val_loss: 0.3618, val_acc: 0.9208\n",
            "Epoch 55: Train Acc: 0.9973, Train err: 0.0027, Train loss: 0.0041 | Validation Acc: 0.9095, Validation err: 0.0905, Validation loss: 0.3618\n",
            "Epoch [55], last_lr: 0.00697, train_loss: 0.0316, val_loss: 0.5104, val_acc: 0.9023\n",
            "Epoch 56: Train Acc: 0.9980, Train err: 0.0020, Train loss: 0.0030 | Validation Acc: 0.8810, Validation err: 0.1190, Validation loss: 0.5104\n",
            "Epoch [56], last_lr: 0.00676, train_loss: 0.0154, val_loss: 0.4119, val_acc: 0.8930\n",
            "Epoch 57: Train Acc: 0.9993, Train err: 0.0007, Train loss: 0.0013 | Validation Acc: 0.9000, Validation err: 0.1000, Validation loss: 0.4119\n",
            "Epoch [57], last_lr: 0.00655, train_loss: 0.0310, val_loss: 0.3547, val_acc: 0.9395\n",
            "Epoch 58: Train Acc: 0.9980, Train err: 0.0020, Train loss: 0.0017 | Validation Acc: 0.9262, Validation err: 0.0738, Validation loss: 0.3547\n",
            "Epoch [58], last_lr: 0.00633, train_loss: 0.0397, val_loss: 0.3697, val_acc: 0.8904\n",
            "Epoch 59: Train Acc: 0.9966, Train err: 0.0034, Train loss: 0.0045 | Validation Acc: 0.8786, Validation err: 0.1214, Validation loss: 0.3697\n",
            "Epoch [59], last_lr: 0.00611, train_loss: 0.0192, val_loss: 0.4213, val_acc: 0.9149\n",
            "Epoch 60: Train Acc: 0.9980, Train err: 0.0020, Train loss: 0.0018 | Validation Acc: 0.9024, Validation err: 0.0976, Validation loss: 0.4213\n",
            "Epoch [60], last_lr: 0.00589, train_loss: 0.0271, val_loss: 0.3332, val_acc: 0.9375\n",
            "Epoch 61: Train Acc: 0.9986, Train err: 0.0014, Train loss: 0.0026 | Validation Acc: 0.9238, Validation err: 0.0762, Validation loss: 0.3332\n",
            "Epoch [61], last_lr: 0.00567, train_loss: 0.0146, val_loss: 0.3074, val_acc: 0.9453\n",
            "Epoch 62: Train Acc: 0.9993, Train err: 0.0007, Train loss: 0.0010 | Validation Acc: 0.9333, Validation err: 0.0667, Validation loss: 0.3074\n",
            "Epoch [62], last_lr: 0.00545, train_loss: 0.0282, val_loss: 0.4036, val_acc: 0.9219\n",
            "Epoch 63: Train Acc: 0.9980, Train err: 0.0020, Train loss: 0.0035 | Validation Acc: 0.9048, Validation err: 0.0952, Validation loss: 0.4036\n",
            "Epoch [63], last_lr: 0.00522, train_loss: 0.0239, val_loss: 0.3084, val_acc: 0.9403\n",
            "Epoch 64: Train Acc: 0.9993, Train err: 0.0007, Train loss: 0.0022 | Validation Acc: 0.9333, Validation err: 0.0667, Validation loss: 0.3084\n",
            "Epoch [64], last_lr: 0.00500, train_loss: 0.0163, val_loss: 0.3162, val_acc: 0.9442\n",
            "Epoch 65: Train Acc: 0.9993, Train err: 0.0007, Train loss: 0.0020 | Validation Acc: 0.9381, Validation err: 0.0619, Validation loss: 0.3162\n",
            "Epoch [65], last_lr: 0.00478, train_loss: 0.0228, val_loss: 0.4084, val_acc: 0.9178\n",
            "Epoch 66: Train Acc: 0.9986, Train err: 0.0014, Train loss: 0.0031 | Validation Acc: 0.9119, Validation err: 0.0881, Validation loss: 0.4084\n",
            "Epoch [66], last_lr: 0.00455, train_loss: 0.0135, val_loss: 0.4659, val_acc: 0.8874\n",
            "Epoch 67: Train Acc: 0.9986, Train err: 0.0014, Train loss: 0.0014 | Validation Acc: 0.8810, Validation err: 0.1190, Validation loss: 0.4659\n",
            "Epoch [67], last_lr: 0.00433, train_loss: 0.0138, val_loss: 0.5137, val_acc: 0.8683\n",
            "Epoch 68: Train Acc: 0.9993, Train err: 0.0007, Train loss: 0.0016 | Validation Acc: 0.8881, Validation err: 0.1119, Validation loss: 0.5137\n",
            "Epoch [68], last_lr: 0.00411, train_loss: 0.0293, val_loss: 0.4315, val_acc: 0.9169\n",
            "Epoch 69: Train Acc: 0.9980, Train err: 0.0020, Train loss: 0.0027 | Validation Acc: 0.9048, Validation err: 0.0952, Validation loss: 0.4315\n",
            "Epoch [69], last_lr: 0.00389, train_loss: 0.0183, val_loss: 0.3305, val_acc: 0.9434\n",
            "Epoch 70: Train Acc: 0.9993, Train err: 0.0007, Train loss: 0.0022 | Validation Acc: 0.9310, Validation err: 0.0690, Validation loss: 0.3305\n",
            "Epoch [70], last_lr: 0.00367, train_loss: 0.0068, val_loss: 0.3071, val_acc: 0.9384\n",
            "Epoch 71: Train Acc: 0.9986, Train err: 0.0014, Train loss: 0.0011 | Validation Acc: 0.9310, Validation err: 0.0690, Validation loss: 0.3071\n",
            "Epoch [71], last_lr: 0.00345, train_loss: 0.0017, val_loss: 0.3961, val_acc: 0.9086\n",
            "Epoch 72: Train Acc: 1.0000, Train err: 0.0000, Train loss: 0.0002 | Validation Acc: 0.9190, Validation err: 0.0810, Validation loss: 0.3961\n",
            "Epoch [72], last_lr: 0.00324, train_loss: 0.0014, val_loss: 0.2921, val_acc: 0.9453\n",
            "Epoch 73: Train Acc: 1.0000, Train err: 0.0000, Train loss: 0.0002 | Validation Acc: 0.9333, Validation err: 0.0667, Validation loss: 0.2921\n",
            "Epoch [73], last_lr: 0.00303, train_loss: 0.0004, val_loss: 0.2881, val_acc: 0.9453\n",
            "Epoch 74: Train Acc: 1.0000, Train err: 0.0000, Train loss: 0.0001 | Validation Acc: 0.9333, Validation err: 0.0667, Validation loss: 0.2881\n",
            "Epoch [74], last_lr: 0.00283, train_loss: 0.0005, val_loss: 0.2814, val_acc: 0.9512\n",
            "Epoch 75: Train Acc: 1.0000, Train err: 0.0000, Train loss: 0.0001 | Validation Acc: 0.9405, Validation err: 0.0595, Validation loss: 0.2814\n",
            "Epoch [75], last_lr: 0.00263, train_loss: 0.0006, val_loss: 0.3067, val_acc: 0.9342\n",
            "Epoch 76: Train Acc: 1.0000, Train err: 0.0000, Train loss: 0.0001 | Validation Acc: 0.9381, Validation err: 0.0619, Validation loss: 0.3067\n",
            "Epoch [76], last_lr: 0.00244, train_loss: 0.0059, val_loss: 0.3448, val_acc: 0.9217\n",
            "Epoch 77: Train Acc: 0.9993, Train err: 0.0007, Train loss: 0.0008 | Validation Acc: 0.9167, Validation err: 0.0833, Validation loss: 0.3448\n",
            "Epoch [77], last_lr: 0.00225, train_loss: 0.0114, val_loss: 0.3327, val_acc: 0.9434\n",
            "Epoch 78: Train Acc: 0.9993, Train err: 0.0007, Train loss: 0.0014 | Validation Acc: 0.9310, Validation err: 0.0690, Validation loss: 0.3327\n",
            "Epoch [78], last_lr: 0.00206, train_loss: 0.0005, val_loss: 0.2937, val_acc: 0.9512\n",
            "Epoch 79: Train Acc: 1.0000, Train err: 0.0000, Train loss: 0.0000 | Validation Acc: 0.9405, Validation err: 0.0595, Validation loss: 0.2937\n",
            "Epoch [79], last_lr: 0.00188, train_loss: 0.0002, val_loss: 0.2760, val_acc: 0.9512\n",
            "Epoch 80: Train Acc: 1.0000, Train err: 0.0000, Train loss: 0.0000 | Validation Acc: 0.9405, Validation err: 0.0595, Validation loss: 0.2760\n",
            "Epoch [80], last_lr: 0.00171, train_loss: 0.0001, val_loss: 0.2802, val_acc: 0.9512\n",
            "Epoch 81: Train Acc: 1.0000, Train err: 0.0000, Train loss: 0.0000 | Validation Acc: 0.9405, Validation err: 0.0595, Validation loss: 0.2802\n",
            "Epoch [81], last_lr: 0.00154, train_loss: 0.0004, val_loss: 0.2764, val_acc: 0.9492\n",
            "Epoch 82: Train Acc: 1.0000, Train err: 0.0000, Train loss: 0.0000 | Validation Acc: 0.9381, Validation err: 0.0619, Validation loss: 0.2764\n",
            "Epoch [82], last_lr: 0.00139, train_loss: 0.0002, val_loss: 0.2847, val_acc: 0.9551\n",
            "Epoch 83: Train Acc: 1.0000, Train err: 0.0000, Train loss: 0.0000 | Validation Acc: 0.9452, Validation err: 0.0548, Validation loss: 0.2847\n",
            "Epoch [83], last_lr: 0.00123, train_loss: 0.0005, val_loss: 0.2901, val_acc: 0.9492\n",
            "Epoch 84: Train Acc: 1.0000, Train err: 0.0000, Train loss: 0.0000 | Validation Acc: 0.9381, Validation err: 0.0619, Validation loss: 0.2901\n",
            "Epoch [84], last_lr: 0.00109, train_loss: 0.0008, val_loss: 0.2655, val_acc: 0.9570\n",
            "Epoch 85: Train Acc: 1.0000, Train err: 0.0000, Train loss: 0.0001 | Validation Acc: 0.9476, Validation err: 0.0524, Validation loss: 0.2655\n",
            "Epoch [85], last_lr: 0.00095, train_loss: 0.0003, val_loss: 0.3064, val_acc: 0.9423\n",
            "Epoch 86: Train Acc: 1.0000, Train err: 0.0000, Train loss: 0.0000 | Validation Acc: 0.9357, Validation err: 0.0643, Validation loss: 0.3064\n",
            "Epoch [86], last_lr: 0.00083, train_loss: 0.0001, val_loss: 0.3013, val_acc: 0.9512\n",
            "Epoch 87: Train Acc: 1.0000, Train err: 0.0000, Train loss: 0.0000 | Validation Acc: 0.9405, Validation err: 0.0595, Validation loss: 0.3013\n",
            "Epoch [87], last_lr: 0.00071, train_loss: 0.0001, val_loss: 0.2893, val_acc: 0.9492\n",
            "Epoch 88: Train Acc: 1.0000, Train err: 0.0000, Train loss: 0.0000 | Validation Acc: 0.9381, Validation err: 0.0619, Validation loss: 0.2893\n",
            "Epoch [88], last_lr: 0.00060, train_loss: 0.0001, val_loss: 0.2934, val_acc: 0.9512\n",
            "Epoch 89: Train Acc: 1.0000, Train err: 0.0000, Train loss: 0.0000 | Validation Acc: 0.9405, Validation err: 0.0595, Validation loss: 0.2934\n",
            "Epoch [89], last_lr: 0.00050, train_loss: 0.0001, val_loss: 0.3012, val_acc: 0.9453\n",
            "Epoch 90: Train Acc: 1.0000, Train err: 0.0000, Train loss: 0.0000 | Validation Acc: 0.9333, Validation err: 0.0667, Validation loss: 0.3012\n",
            "Epoch [90], last_lr: 0.00040, train_loss: 0.0001, val_loss: 0.2876, val_acc: 0.9512\n",
            "Epoch 91: Train Acc: 1.0000, Train err: 0.0000, Train loss: 0.0000 | Validation Acc: 0.9405, Validation err: 0.0595, Validation loss: 0.2876\n",
            "Epoch [91], last_lr: 0.00032, train_loss: 0.0004, val_loss: 0.3034, val_acc: 0.9453\n",
            "Epoch 92: Train Acc: 1.0000, Train err: 0.0000, Train loss: 0.0001 | Validation Acc: 0.9333, Validation err: 0.0667, Validation loss: 0.3034\n",
            "Epoch [92], last_lr: 0.00024, train_loss: 0.0002, val_loss: 0.3126, val_acc: 0.9473\n",
            "Epoch 93: Train Acc: 1.0000, Train err: 0.0000, Train loss: 0.0000 | Validation Acc: 0.9357, Validation err: 0.0643, Validation loss: 0.3126\n",
            "Epoch [93], last_lr: 0.00018, train_loss: 0.0001, val_loss: 0.2992, val_acc: 0.9512\n",
            "Epoch 94: Train Acc: 1.0000, Train err: 0.0000, Train loss: 0.0000 | Validation Acc: 0.9405, Validation err: 0.0595, Validation loss: 0.2992\n",
            "Epoch [94], last_lr: 0.00013, train_loss: 0.0001, val_loss: 0.3026, val_acc: 0.9512\n",
            "Epoch 95: Train Acc: 1.0000, Train err: 0.0000, Train loss: 0.0000 | Validation Acc: 0.9405, Validation err: 0.0595, Validation loss: 0.3026\n",
            "Epoch [95], last_lr: 0.00008, train_loss: 0.0002, val_loss: 0.2925, val_acc: 0.9473\n",
            "Epoch 96: Train Acc: 1.0000, Train err: 0.0000, Train loss: 0.0000 | Validation Acc: 0.9357, Validation err: 0.0643, Validation loss: 0.2925\n",
            "Epoch [96], last_lr: 0.00005, train_loss: 0.0002, val_loss: 0.3143, val_acc: 0.9473\n",
            "Epoch 97: Train Acc: 1.0000, Train err: 0.0000, Train loss: 0.0000 | Validation Acc: 0.9357, Validation err: 0.0643, Validation loss: 0.3143\n",
            "Epoch [97], last_lr: 0.00002, train_loss: 0.0002, val_loss: 0.3014, val_acc: 0.9512\n",
            "Epoch 98: Train Acc: 1.0000, Train err: 0.0000, Train loss: 0.0000 | Validation Acc: 0.9405, Validation err: 0.0595, Validation loss: 0.3014\n",
            "Epoch [98], last_lr: 0.00001, train_loss: 0.0001, val_loss: 0.3017, val_acc: 0.9492\n",
            "Epoch 99: Train Acc: 1.0000, Train err: 0.0000, Train loss: 0.0000 | Validation Acc: 0.9381, Validation err: 0.0619, Validation loss: 0.3017\n",
            "Epoch [99], last_lr: 0.00000, train_loss: 0.0001, val_loss: 0.3094, val_acc: 0.9453\n",
            "Epoch 100: Train Acc: 1.0000, Train err: 0.0000, Train loss: 0.0000 | Validation Acc: 0.9333, Validation err: 0.0667, Validation loss: 0.3094\n",
            "Finished Training\n",
            "CPU times: user 32min 26s, sys: 43.8 s, total: 33min 9s\n",
            "Wall time: 40min 4s\n"
          ]
        }
      ],
      "source": [
        "%%time\n",
        "history += fit_OneCycle(epochs, max_lr, model, train_dl, valid_dl,\n",
        "                             grad_clip=grad_clip,\n",
        "                             weight_decay=1e-4,\n",
        "                             opt_func=opt_func)"
      ]
    },
    {
      "cell_type": "code",
      "execution_count": null,
      "metadata": {
        "id": "5ZhTrP_OZyg0"
      },
      "outputs": [],
      "source": [
        "#Plotting\n",
        "\n",
        "def plot_accuracies(history):\n",
        "    accuracies = [x['val_accuracy'] for x in history]\n",
        "    plt.plot(accuracies, '-x')\n",
        "    plt.xlabel('epoch')\n",
        "    plt.ylabel('accuracy')\n",
        "    plt.title('Accuracy vs. No. of epochs');\n",
        "\n",
        "def plot_losses(history):\n",
        "    train_losses = [x.get('train_loss') for x in history]\n",
        "    val_losses = [x['val_loss'] for x in history]\n",
        "    plt.plot(train_losses, '-bx')\n",
        "    plt.plot(val_losses, '-rx')\n",
        "    plt.xlabel('epoch')\n",
        "    plt.ylabel('loss')\n",
        "    plt.legend(['Training', 'Validation'])\n",
        "    plt.title('Loss vs. No. of epochs');\n",
        "\n",
        "def plot_lrs(history):\n",
        "    lrs = np.concatenate([x.get('lrs', []) for x in history])\n",
        "    plt.plot(lrs)\n",
        "    plt.xlabel('Batch no.')\n",
        "    plt.ylabel('Learning rate')\n",
        "    plt.title('Learning Rate vs. Batch no.');"
      ]
    },
    {
      "cell_type": "code",
      "execution_count": null,
      "metadata": {
        "colab": {
          "base_uri": "https://localhost:8080/",
          "height": 472
        },
        "id": "dBIJ7IWUZzNB",
        "outputId": "f94f91b5-e5d0-40c7-9ecd-1d97d95ddbfb"
      },
      "outputs": [
        {
          "data": {
            "image/png": "[encoded data removed]",
            "text/plain": [
              "<Figure size 640x480 with 1 Axes>"
            ]
          },
          "metadata": {},
          "output_type": "display_data"
        }
      ],
      "source": [
        "#Validation Accuracy\n",
        "plot_accuracies(history)"
      ]
    },
    {
      "cell_type": "code",
      "execution_count": 49,
      "metadata": {
        "colab": {
          "base_uri": "https://localhost:8080/",
          "height": 472
        },
        "id": "5upUbhcQuuSC",
        "outputId": "88e21a2f-0c55-4799-e79a-9503e11a8a85"
      },
      "outputs": [
        {
          "data": {
            "image/png": "[encoded data removed]",
            "text/plain": [
              "<Figure size 640x480 with 1 Axes>"
            ]
          },
          "metadata": {},
          "output_type": "display_data"
        }
      ],
      "source": [
        "#Alternative Plotting\n",
        "\n",
        "def plot_acc():\n",
        "    import matplotlib.pyplot as plt\n",
        "    train_acc = np.loadtxt(\"/content/ResNet9_train_acc.csv\") #Change this as needed\n",
        "    val_acc = np.loadtxt(\"/content/ResNet9_val_acc.csv\")\n",
        "    plt.title(\"Train vs Validation Accuracy\")\n",
        "    n = len(train_acc) # number of epochs\n",
        "    plt.plot(range(1,n+1), train_acc, label=\"Train\")\n",
        "    plt.plot(range(1,n+1), val_acc, label=\"Validation\")\n",
        "    plt.xlabel(\"Epoch\")\n",
        "    plt.ylabel(\"Accuracy\")\n",
        "    plt.legend(loc='best')\n",
        "    plt.show()\n",
        "plot_acc()"
      ]
    },
    {
      "cell_type": "code",
      "execution_count": null,
      "metadata": {
        "id": "F_Dil2OsaL3s"
      },
      "outputs": [],
      "source": [
        "# Save the model checkpoint\n",
        "def save_checkpoint(model, epoch, filepath):\n",
        "    torch.save({\n",
        "        'epoch': epoch,\n",
        "        'model_state_dict': model.state_dict(),\n",
        "    }, filepath)\n",
        "\n",
        "# Example usage\n",
        "save_checkpoint(model, epoch=18, filepath='model_epoch_18_val_acc_89.pth')\n",
        "\n",
        "#Default parameters for 9 epochs, then lr = 0.05 for the last 10"
      ]
    },
    {
      "cell_type": "code",
      "execution_count": null,
      "metadata": {
        "id": "B5T-BYojgopd"
      },
      "outputs": [],
      "source": [
        "# Save the model checkpoint\n",
        "def save_checkpoint(model, epoch, filepath):\n",
        "    torch.save({\n",
        "        'epoch': epoch,\n",
        "        'model_state_dict': model.state_dict(),\n",
        "    }, filepath)\n",
        "\n",
        "# Example usage\n",
        "save_checkpoint(model, epoch=40, filepath='model_epoch_40_round_2')\n",
        "\n",
        "#Default parameters for 20 epochs except lr = 0.005\n",
        "#Accuracy about 93.81%"
      ]
    },
    {
      "cell_type": "code",
      "execution_count": null,
      "metadata": {
        "id": "pTr6Iu0HkupI"
      },
      "outputs": [],
      "source": [
        "# Save the model checkpoint\n",
        "def save_checkpoint(model, epoch, filepath):\n",
        "    torch.save({\n",
        "        'epoch': epoch,\n",
        "        'model_state_dict': model.state_dict(),\n",
        "    }, filepath)\n",
        "\n",
        "# Example usage\n",
        "modelOld = ResNet9(3, len(train.classes))\n",
        "save_checkpoint(model, epoch=0, filepath='/content/model_epoch_20_val_acc_91')\n",
        "\n",
        "#Default parameters for 9 epochs, then lr = 0.05 for the last 10"
      ]
    },
    {
      "cell_type": "code",
      "execution_count": 54,
      "metadata": {
        "colab": {
          "base_uri": "https://localhost:8080/",
          "height": 315
        },
        "id": "UPraHo-nfsFw",
        "outputId": "71929250-4112-47d0-d748-694e6be5e2cb"
      },
      "outputs": [
        {
          "ename": "KeyError",
          "evalue": "'model_state_dict'",
          "output_type": "error",
          "traceback": [
            "\u001b[0;31m---------------------------------------------------------------------------\u001b[0m",
            "\u001b[0;31mKeyError\u001b[0m                                  Traceback (most recent call last)",
            "\u001b[0;32m<ipython-input-54-5640ac30ddda>\u001b[0m in \u001b[0;36m<cell line: 10>\u001b[0;34m()\u001b[0m\n\u001b[1;32m      8\u001b[0m \u001b[0mmodel\u001b[0m\u001b[0;34m.\u001b[0m\u001b[0mto\u001b[0m\u001b[0;34m(\u001b[0m\u001b[0mdevice\u001b[0m\u001b[0;34m)\u001b[0m\u001b[0;34m\u001b[0m\u001b[0;34m\u001b[0m\u001b[0m\n\u001b[1;32m      9\u001b[0m \u001b[0;34m\u001b[0m\u001b[0m\n\u001b[0;32m---> 10\u001b[0;31m \u001b[0mstart_epoch\u001b[0m \u001b[0;34m=\u001b[0m \u001b[0mload_checkpoint\u001b[0m\u001b[0;34m(\u001b[0m\u001b[0;34m'/content/model_ResNet9_bs128_lr0.01_epoch85.pth'\u001b[0m\u001b[0;34m,\u001b[0m \u001b[0mmodel\u001b[0m\u001b[0;34m)\u001b[0m\u001b[0;34m\u001b[0m\u001b[0;34m\u001b[0m\u001b[0m\n\u001b[0m\u001b[1;32m     11\u001b[0m \u001b[0;34m\u001b[0m\u001b[0m\n",
            "\u001b[0;32m<ipython-input-54-5640ac30ddda>\u001b[0m in \u001b[0;36mload_checkpoint\u001b[0;34m(filepath, model)\u001b[0m\n\u001b[1;32m      2\u001b[0m \u001b[0;32mdef\u001b[0m \u001b[0mload_checkpoint\u001b[0m\u001b[0;34m(\u001b[0m\u001b[0mfilepath\u001b[0m\u001b[0;34m,\u001b[0m \u001b[0mmodel\u001b[0m\u001b[0;34m)\u001b[0m\u001b[0;34m:\u001b[0m\u001b[0;34m\u001b[0m\u001b[0;34m\u001b[0m\u001b[0m\n\u001b[1;32m      3\u001b[0m     \u001b[0mcheckpoint\u001b[0m \u001b[0;34m=\u001b[0m \u001b[0mtorch\u001b[0m\u001b[0;34m.\u001b[0m\u001b[0mload\u001b[0m\u001b[0;34m(\u001b[0m\u001b[0mfilepath\u001b[0m\u001b[0;34m)\u001b[0m\u001b[0;34m\u001b[0m\u001b[0;34m\u001b[0m\u001b[0m\n\u001b[0;32m----> 4\u001b[0;31m     \u001b[0mmodel\u001b[0m\u001b[0;34m.\u001b[0m\u001b[0mload_state_dict\u001b[0m\u001b[0;34m(\u001b[0m\u001b[0mcheckpoint\u001b[0m\u001b[0;34m[\u001b[0m\u001b[0;34m'model_state_dict'\u001b[0m\u001b[0;34m]\u001b[0m\u001b[0;34m)\u001b[0m\u001b[0;34m\u001b[0m\u001b[0;34m\u001b[0m\u001b[0m\n\u001b[0m\u001b[1;32m      5\u001b[0m     \u001b[0;32mreturn\u001b[0m \u001b[0mcheckpoint\u001b[0m\u001b[0;34m[\u001b[0m\u001b[0;34m'epoch'\u001b[0m\u001b[0;34m]\u001b[0m\u001b[0;34m\u001b[0m\u001b[0;34m\u001b[0m\u001b[0m\n\u001b[1;32m      6\u001b[0m \u001b[0;34m\u001b[0m\u001b[0m\n",
            "\u001b[0;31mKeyError\u001b[0m: 'model_state_dict'"
          ]
        }
      ],
      "source": [
        "# Load the model checkpoint\n",
        "def load_checkpoint(filepath, model):\n",
        "    checkpoint = torch.load(filepath)\n",
        "    model.load_state_dict(checkpoint['model_state_dict'])\n",
        "    return checkpoint['epoch']\n",
        "\n",
        "device = torch.device('cuda' if torch.cuda.is_available() else 'cpu')\n",
        "model.to(device)\n",
        "\n",
        "start_epoch = load_checkpoint('/content/model_ResNet9_bs128_lr0.01_epoch85.pth', model)\n",
        "\n"
      ]
    },
    {
      "cell_type": "code",
      "execution_count": 62,
      "metadata": {
        "id": "e259GgJOJZQI"
      },
      "outputs": [],
      "source": [
        "def load_checkpoint(filepath, model):\n",
        "    checkpoint = torch.load(filepath)\n",
        "    model.load_state_dict(checkpoint)  # Load the entire checkpoint as state_dict\n",
        "    return 0  # Return 0 as the start epoch since it wasn't saved\n",
        "\n",
        "device = torch.device('cuda' if torch.cuda.is_available() else 'cpu')\n",
        "model.to(device)\n",
        "\n",
        "start_epoch = load_checkpoint('/content/model_ResNet9_bs128_lr0.01_epoch75.pth', model)"
      ]
    },
    {
      "cell_type": "code",
      "execution_count": 55,
      "metadata": {
        "colab": {
          "base_uri": "https://localhost:8080/"
        },
        "id": "pbfujvb0I-SC",
        "outputId": "f65f6e60-0faa-4905-aad7-0052734c8e0e"
      },
      "outputs": [
        {
          "name": "stdout",
          "output_type": "stream",
          "text": [
            "odict_keys(['conv1.0.weight', 'conv1.0.bias', 'conv1.1.weight', 'conv1.1.bias', 'conv1.1.running_mean', 'conv1.1.running_var', 'conv1.1.num_batches_tracked', 'conv2.0.weight', 'conv2.0.bias', 'conv2.1.weight', 'conv2.1.bias', 'conv2.1.running_mean', 'conv2.1.running_var', 'conv2.1.num_batches_tracked', 'res1.0.0.weight', 'res1.0.0.bias', 'res1.0.1.weight', 'res1.0.1.bias', 'res1.0.1.running_mean', 'res1.0.1.running_var', 'res1.0.1.num_batches_tracked', 'res1.1.0.weight', 'res1.1.0.bias', 'res1.1.1.weight', 'res1.1.1.bias', 'res1.1.1.running_mean', 'res1.1.1.running_var', 'res1.1.1.num_batches_tracked', 'conv3.0.weight', 'conv3.0.bias', 'conv3.1.weight', 'conv3.1.bias', 'conv3.1.running_mean', 'conv3.1.running_var', 'conv3.1.num_batches_tracked', 'conv4.0.weight', 'conv4.0.bias', 'conv4.1.weight', 'conv4.1.bias', 'conv4.1.running_mean', 'conv4.1.running_var', 'conv4.1.num_batches_tracked', 'res2.0.0.weight', 'res2.0.0.bias', 'res2.0.1.weight', 'res2.0.1.bias', 'res2.0.1.running_mean', 'res2.0.1.running_var', 'res2.0.1.num_batches_tracked', 'res2.1.0.weight', 'res2.1.0.bias', 'res2.1.1.weight', 'res2.1.1.bias', 'res2.1.1.running_mean', 'res2.1.1.running_var', 'res2.1.1.num_batches_tracked', 'classifier.2.weight', 'classifier.2.bias'])\n"
          ]
        }
      ],
      "source": [
        "checkpoint = torch.load('/content/model_ResNet9_bs128_lr0.01_epoch85.pth')\n",
        "print(checkpoint.keys())"
      ]
    },
    {
      "cell_type": "code",
      "execution_count": null,
      "metadata": {
        "colab": {
          "base_uri": "https://localhost:8080/"
        },
        "id": "QUxUvZXCgTF-",
        "outputId": "787b1aa4-cec3-4de6-92a7-663c9152dd6c"
      },
      "outputs": [
        {
          "name": "stdout",
          "output_type": "stream",
          "text": [
            "Validation Accuracy: 93.81%\n"
          ]
        }
      ],
      "source": [
        "def evaluate_model(model, dataloader, device):\n",
        "    model.eval()  # Set the model to evaluation mode\n",
        "    correct = 0\n",
        "    total = 0\n",
        "\n",
        "    with torch.no_grad():  # Disable gradient computation for evaluation\n",
        "        for inputs, labels in dataloader:\n",
        "            inputs, labels = inputs.to(device), labels.to(device)\n",
        "            outputs = model(inputs)\n",
        "            _, predicted = torch.max(outputs, 1)\n",
        "            total += labels.size(0)\n",
        "            correct += (predicted == labels).sum().item()\n",
        "\n",
        "    accuracy = 100 * correct / total\n",
        "    return accuracy\n",
        "\n",
        "# Example usage\n",
        "validation_accuracy = evaluate_model(model, valid_dl, device)\n",
        "print(f\"Validation Accuracy: {validation_accuracy:.2f}%\")"
      ]
    },
    {
      "cell_type": "code",
      "execution_count": 51,
      "metadata": {
        "id": "DpBJhZZClr27"
      },
      "outputs": [],
      "source": [
        "test_dir = '/content/drive/My Drive/Corn_Dataset/Corn_Testing'\n",
        "test = ImageFolder(test_dir, transform=transforms.ToTensor())\n",
        "test_loader = DataLoader(test, batch_size=32, shuffle=True)"
      ]
    },
    {
      "cell_type": "code",
      "execution_count": null,
      "metadata": {
        "colab": {
          "base_uri": "https://localhost:8080/"
        },
        "id": "iacvkU4YwmIy",
        "outputId": "7e0e8147-84bf-46df-e9bd-dabe80bc0dbc"
      },
      "outputs": [
        {
          "data": {
            "text/plain": [
              "ResNet9(\n",
              "  (conv1): Sequential(\n",
              "    (0): Conv2d(3, 64, kernel_size=(3, 3), stride=(1, 1), padding=(1, 1))\n",
              "    (1): BatchNorm2d(64, eps=1e-05, momentum=0.1, affine=True, track_running_stats=True)\n",
              "    (2): ReLU(inplace=True)\n",
              "  )\n",
              "  (conv2): Sequential(\n",
              "    (0): Conv2d(64, 128, kernel_size=(3, 3), stride=(1, 1), padding=(1, 1))\n",
              "    (1): BatchNorm2d(128, eps=1e-05, momentum=0.1, affine=True, track_running_stats=True)\n",
              "    (2): ReLU(inplace=True)\n",
              "    (3): MaxPool2d(kernel_size=2, stride=2, padding=0, dilation=1, ceil_mode=False)\n",
              "  )\n",
              "  (res1): Sequential(\n",
              "    (0): Sequential(\n",
              "      (0): Conv2d(128, 128, kernel_size=(3, 3), stride=(1, 1), padding=(1, 1))\n",
              "      (1): BatchNorm2d(128, eps=1e-05, momentum=0.1, affine=True, track_running_stats=True)\n",
              "      (2): ReLU(inplace=True)\n",
              "    )\n",
              "    (1): Sequential(\n",
              "      (0): Conv2d(128, 128, kernel_size=(3, 3), stride=(1, 1), padding=(1, 1))\n",
              "      (1): BatchNorm2d(128, eps=1e-05, momentum=0.1, affine=True, track_running_stats=True)\n",
              "      (2): ReLU(inplace=True)\n",
              "    )\n",
              "  )\n",
              "  (conv3): Sequential(\n",
              "    (0): Conv2d(128, 256, kernel_size=(3, 3), stride=(1, 1), padding=(1, 1))\n",
              "    (1): BatchNorm2d(256, eps=1e-05, momentum=0.1, affine=True, track_running_stats=True)\n",
              "    (2): ReLU(inplace=True)\n",
              "    (3): MaxPool2d(kernel_size=2, stride=2, padding=0, dilation=1, ceil_mode=False)\n",
              "  )\n",
              "  (conv4): Sequential(\n",
              "    (0): Conv2d(256, 512, kernel_size=(3, 3), stride=(1, 1), padding=(1, 1))\n",
              "    (1): BatchNorm2d(512, eps=1e-05, momentum=0.1, affine=True, track_running_stats=True)\n",
              "    (2): ReLU(inplace=True)\n",
              "    (3): MaxPool2d(kernel_size=2, stride=2, padding=0, dilation=1, ceil_mode=False)\n",
              "  )\n",
              "  (res2): Sequential(\n",
              "    (0): Sequential(\n",
              "      (0): Conv2d(512, 512, kernel_size=(3, 3), stride=(1, 1), padding=(1, 1))\n",
              "      (1): BatchNorm2d(512, eps=1e-05, momentum=0.1, affine=True, track_running_stats=True)\n",
              "      (2): ReLU(inplace=True)\n",
              "    )\n",
              "    (1): Sequential(\n",
              "      (0): Conv2d(512, 512, kernel_size=(3, 3), stride=(1, 1), padding=(1, 1))\n",
              "      (1): BatchNorm2d(512, eps=1e-05, momentum=0.1, affine=True, track_running_stats=True)\n",
              "      (2): ReLU(inplace=True)\n",
              "    )\n",
              "  )\n",
              "  (classifier): Sequential(\n",
              "    (0): MaxPool2d(kernel_size=16, stride=16, padding=0, dilation=1, ceil_mode=False)\n",
              "    (1): Flatten(start_dim=1, end_dim=-1)\n",
              "    (2): Linear(in_features=512, out_features=6, bias=True)\n",
              "  )\n",
              ")"
            ]
          },
          "execution_count": 113,
          "metadata": {},
          "output_type": "execute_result"
        }
      ],
      "source": [
        "device = torch.device('cuda' if torch.cuda.is_available() else 'cpu')\n",
        "model.to(device)"
      ]
    },
    {
      "cell_type": "code",
      "execution_count": 63,
      "metadata": {
        "colab": {
          "base_uri": "https://localhost:8080/"
        },
        "id": "Iqwfa3yAwOfv",
        "outputId": "b50790a4-720a-481e-82db-456c0388c892"
      },
      "outputs": [
        {
          "name": "stdout",
          "output_type": "stream",
          "text": [
            "Test Accuracy: 92.52%\n"
          ]
        }
      ],
      "source": [
        "def evaluate_model(model, test_loader):\n",
        "    model.eval()  # Ensure the model is in evaluation mode\n",
        "    correct = 0\n",
        "    total = 0\n",
        "\n",
        "    with torch.no_grad():\n",
        "        for inputs, labels in test_loader:\n",
        "            inputs, labels = inputs.to(device), labels.to(device)\n",
        "\n",
        "            outputs = model(inputs)\n",
        "            _, predicted = torch.max(outputs, 1)\n",
        "            total += labels.size(0)\n",
        "            correct += (predicted == labels).sum().item()\n",
        "\n",
        "    accuracy = 100 * correct / total\n",
        "    return accuracy\n",
        "\n",
        "# Evaluate the model\n",
        "accuracy = evaluate_model(model, test_loader)\n",
        "print(f\"Test Accuracy: {accuracy:.2f}%\")"
      ]
    }
  ],
  "metadata": {
    "accelerator": "GPU",
    "colab": {
      "gpuType": "T4",
      "provenance": []
    },
    "kernelspec": {
      "display_name": "Python 3",
      "name": "python3"
    },
    "language_info": {
      "name": "python"
    }
  },
  "nbformat": 4,
  "nbformat_minor": 0
}
